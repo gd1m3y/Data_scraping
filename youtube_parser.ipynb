{
  "nbformat": 4,
  "nbformat_minor": 0,
  "metadata": {
    "colab": {
      "name": "youtube_parser.ipynb",
      "provenance": [],
      "authorship_tag": "ABX9TyNGiLqaLApMTw4KziOj/3lG",
      "include_colab_link": true
    },
    "kernelspec": {
      "name": "python3",
      "display_name": "Python 3"
    }
  },
  "cells": [
    {
      "cell_type": "markdown",
      "metadata": {
        "id": "view-in-github",
        "colab_type": "text"
      },
      "source": [
        "<a href=\"https://colab.research.google.com/github/gd1m3y/Data_scraping/blob/main/youtube_parser.ipynb\" target=\"_parent\"><img src=\"https://colab.research.google.com/assets/colab-badge.svg\" alt=\"Open In Colab\"/></a>"
      ]
    },
    {
      "cell_type": "code",
      "metadata": {
        "id": "qeQNyk5dYxiF"
      },
      "source": [
        "import requests\r\n",
        "from bs4 import BeautifulSoup"
      ],
      "execution_count": null,
      "outputs": []
    },
    {
      "cell_type": "code",
      "metadata": {
        "id": "E_REwhg8aZ0Q"
      },
      "source": [
        "link = \"https://vid.puffyan.us/channel/UCHd62-u_v4DvJ8TCFtpi4GA\"\r\n",
        "r = requests.get(link)\r\n",
        "html = r.text\r\n",
        "text = BeautifulSoup(html,\"html.parser\")"
      ],
      "execution_count": null,
      "outputs": []
    },
    {
      "cell_type": "code",
      "metadata": {
        "id": "SeeY5zhza7Nj"
      },
      "source": [
        "channel_name = text.find_all(\"div\",{\"class\":\"channel-profile\"})[0].get_text().lstrip().rstrip()"
      ],
      "execution_count": null,
      "outputs": []
    },
    {
      "cell_type": "code",
      "metadata": {
        "colab": {
          "base_uri": "https://localhost:8080/"
        },
        "id": "qZzIco52a9cO",
        "outputId": "e4850edb-d1a2-452a-fdff-2ec103af3aee"
      },
      "source": [
        "print(channel_name)"
      ],
      "execution_count": null,
      "outputs": [
        {
          "output_type": "stream",
          "text": [
            "Washington Post\n"
          ],
          "name": "stdout"
        }
      ]
    },
    {
      "cell_type": "code",
      "metadata": {
        "id": "FK6Aj57FcCam"
      },
      "source": [
        "channle_picture = text.find_all(\"div\",{\"class\":\"channel-profile\"})[0].find(\"img\")['src']"
      ],
      "execution_count": null,
      "outputs": []
    },
    {
      "cell_type": "code",
      "metadata": {
        "colab": {
          "base_uri": "https://localhost:8080/",
          "height": 35
        },
        "id": "ogqH2hcPdgZ6",
        "outputId": "083e16cf-c70c-4bf0-aa82-ee2cc0fdd187"
      },
      "source": [
        "channle_picture"
      ],
      "execution_count": null,
      "outputs": [
        {
          "output_type": "execute_result",
          "data": {
            "application/vnd.google.colaboratory.intrinsic+json": {
              "type": "string"
            },
            "text/plain": [
              "'/ggpht/ytc/AAUvwnj8plhgrlNYWMBPt5GX9sI0bDOnL6U1Rxm0pIUoNg=s900-c-k-c0x00ffffff-no-rj'"
            ]
          },
          "metadata": {
            "tags": []
          },
          "execution_count": 6
        }
      ]
    },
    {
      "cell_type": "code",
      "metadata": {
        "id": "vEhOQoj12k_a"
      },
      "source": [
        ""
      ],
      "execution_count": null,
      "outputs": []
    },
    {
      "cell_type": "code",
      "metadata": {
        "id": "mB7YsFPbdhnh"
      },
      "source": [
        "rss_feed =  text.find_all(\"i\",{\"class\":\"icon ion-logo-rss\"})[0].parent.parent.find(\"a\")['href']"
      ],
      "execution_count": null,
      "outputs": []
    },
    {
      "cell_type": "code",
      "metadata": {
        "colab": {
          "base_uri": "https://localhost:8080/"
        },
        "id": "EbaBeaOufEMf",
        "outputId": "a800ab81-f7e7-4dde-8885-cd545139c9c3"
      },
      "source": [
        "print(rss_feed)"
      ],
      "execution_count": null,
      "outputs": [
        {
          "output_type": "stream",
          "text": [
            "/feed/channel/UCHd62-u_v4DvJ8TCFtpi4GA\n"
          ],
          "name": "stdout"
        }
      ]
    },
    {
      "cell_type": "code",
      "metadata": {
        "id": "uy2TgH8pfFTx"
      },
      "source": [
        "channel_bio = text.find_all(\"span\")[2].get_text()"
      ],
      "execution_count": null,
      "outputs": []
    },
    {
      "cell_type": "code",
      "metadata": {
        "colab": {
          "base_uri": "https://localhost:8080/",
          "height": 35
        },
        "id": "8YZxPANOhonW",
        "outputId": "7d3c9ee7-b7cb-4280-9cbf-8a347f86eb14"
      },
      "source": [
        "channel_bio"
      ],
      "execution_count": null,
      "outputs": [
        {
          "output_type": "execute_result",
          "data": {
            "application/vnd.google.colaboratory.intrinsic+json": {
              "type": "string"
            },
            "text/plain": [
              "'Live events, breaking news, analysis and more from The Washington Post.Comments and community are moderated according to these rules: http://wapo.st/rules'"
            ]
          },
          "metadata": {
            "tags": []
          },
          "execution_count": 10
        }
      ]
    },
    {
      "cell_type": "code",
      "metadata": {
        "id": "5_IqCaWDjZ6t"
      },
      "source": [
        "suscriber_count = text.findAll(\"a\",{\"class\":\"pure-button pure-button-primary\"})[0].get_text().lstrip().rstrip()"
      ],
      "execution_count": null,
      "outputs": []
    },
    {
      "cell_type": "code",
      "metadata": {
        "colab": {
          "base_uri": "https://localhost:8080/",
          "height": 35
        },
        "id": "QRsLs_6NmQ3Q",
        "outputId": "8967b403-c17f-4ffd-dea4-5bff9b9aad19"
      },
      "source": [
        "suscriber_count"
      ],
      "execution_count": null,
      "outputs": [
        {
          "output_type": "execute_result",
          "data": {
            "application/vnd.google.colaboratory.intrinsic+json": {
              "type": "string"
            },
            "text/plain": [
              "'Subscribe | 1.6M'"
            ]
          },
          "metadata": {
            "tags": []
          },
          "execution_count": 12
        }
      ]
    },
    {
      "cell_type": "code",
      "metadata": {
        "id": "4gURBQA8mR1t"
      },
      "source": [
        "latest_vids = text.findAll(\"div\",{\"class\":\"pure-u-1 pure-u-md-1-4\"})"
      ],
      "execution_count": null,
      "outputs": []
    },
    {
      "cell_type": "code",
      "metadata": {
        "colab": {
          "base_uri": "https://localhost:8080/",
          "height": 35
        },
        "id": "tp58846BpWdO",
        "outputId": "f0ac8af8-5983-4d56-bf01-4b9378f4d720"
      },
      "source": [
        "dicts = {}\r\n",
        "img_vid = latest_vids[1].find(\"img\")['src']\r\n",
        "img_vid"
      ],
      "execution_count": null,
      "outputs": [
        {
          "output_type": "execute_result",
          "data": {
            "application/vnd.google.colaboratory.intrinsic+json": {
              "type": "string"
            },
            "text/plain": [
              "'/vi/H1Y83kmQdG0/mqdefault.jpg'"
            ]
          },
          "metadata": {
            "tags": []
          },
          "execution_count": 14
        }
      ]
    },
    {
      "cell_type": "code",
      "metadata": {
        "id": "CaeBwDdSqj-S"
      },
      "source": [
        "duration = latest_vids[1].findAll('a')[0].find('p').get_text()"
      ],
      "execution_count": null,
      "outputs": []
    },
    {
      "cell_type": "code",
      "metadata": {
        "id": "kkN-9Dn5wY1H"
      },
      "source": [
        "desc = latest_vids[1].findAll('a')[1].get_text()"
      ],
      "execution_count": null,
      "outputs": []
    },
    {
      "cell_type": "code",
      "metadata": {
        "id": "WT-amerUyp8c"
      },
      "source": [
        "audio_mode = latest_vids[1].findAll('a')[3]['href']"
      ],
      "execution_count": null,
      "outputs": []
    },
    {
      "cell_type": "code",
      "metadata": {
        "colab": {
          "base_uri": "https://localhost:8080/",
          "height": 35
        },
        "id": "mpjGOUHm1Sln",
        "outputId": "aa3cf604-beda-4b90-e1d2-59b12c157fb3"
      },
      "source": [
        "latest_vids[1].findAll('a')[1]['href']"
      ],
      "execution_count": null,
      "outputs": [
        {
          "output_type": "execute_result",
          "data": {
            "application/vnd.google.colaboratory.intrinsic+json": {
              "type": "string"
            },
            "text/plain": [
              "'/watch?v=H1Y83kmQdG0'"
            ]
          },
          "metadata": {
            "tags": []
          },
          "execution_count": 18
        }
      ]
    },
    {
      "cell_type": "code",
      "metadata": {
        "colab": {
          "base_uri": "https://localhost:8080/",
          "height": 35
        },
        "id": "n-1TzW_Fo5FB",
        "outputId": "a3ded62d-3ecb-4f40-e8f8-b17b256ba230"
      },
      "source": [
        "time = latest_vids[1].findAll(\"div\",{\"class\":\"pure-u-2-3\"})[0].get_text()\r\n",
        "time"
      ],
      "execution_count": null,
      "outputs": [
        {
          "output_type": "execute_result",
          "data": {
            "application/vnd.google.colaboratory.intrinsic+json": {
              "type": "string"
            },
            "text/plain": [
              "'Shared 18 hours ago'"
            ]
          },
          "metadata": {
            "tags": []
          },
          "execution_count": 51
        }
      ]
    },
    {
      "cell_type": "code",
      "metadata": {
        "colab": {
          "base_uri": "https://localhost:8080/",
          "height": 35
        },
        "id": "gGNYeytgpQlE",
        "outputId": "36403d5a-8076-4c02-a5c0-161726f1c454"
      },
      "source": [
        "views = latest_vids[1].findAll(\"div\",{\"class\":\"pure-u-1-3\"})[0].get_text().lstrip().rstrip()\r\n",
        "views"
      ],
      "execution_count": null,
      "outputs": [
        {
          "output_type": "execute_result",
          "data": {
            "application/vnd.google.colaboratory.intrinsic+json": {
              "type": "string"
            },
            "text/plain": [
              "'3.2K views'"
            ]
          },
          "metadata": {
            "tags": []
          },
          "execution_count": 55
        }
      ]
    },
    {
      "cell_type": "code",
      "metadata": {
        "id": "IrqN2l330iIn"
      },
      "source": [
        "from collections import defaultdict\r\n",
        "from pprint import pprint"
      ],
      "execution_count": null,
      "outputs": []
    },
    {
      "cell_type": "code",
      "metadata": {
        "id": "n8QGg7o_z9Ac"
      },
      "source": [
        "k=0\r\n",
        "dicts = defaultdict(dict)\r\n",
        "base_url = \"https://www.youtube.com\"\r\n",
        "for i in latest_vids:\r\n",
        "  img_vid = i.find(\"img\")['src']\r\n",
        "  duration = i.findAll('a')[0].find('p').get_text()\r\n",
        "  desc = i.findAll('a')[1].get_text()\r\n",
        "  audio_mode = base_url+i.findAll('a')[3]['href']\r\n",
        "  video_src = base_url+i.findAll('a')[1]['href']\r\n",
        "  time = i.findAll(\"div\",{\"class\":\"pure-u-2-3\"})[0].get_text()\r\n",
        "  views = latest_vids[1].findAll(\"div\",{\"class\":\"pure-u-1-3\"})[0].get_text().lstrip().rstrip()\r\n",
        "  dicts[k]['video_src'] = video_src\r\n",
        "  dicts[k]['img_src'] = img_vid\r\n",
        "  dicts[k]['duration'] = duration\r\n",
        "  dicts[k]['description'] = desc\r\n",
        "  dicts[k]['audio_mode'] = audio_mode\r\n",
        "  dicts[k]['views'] = views\r\n",
        "  dicts[k]['time'] = time\r\n",
        "\r\n",
        "  k+=1"
      ],
      "execution_count": null,
      "outputs": []
    },
    {
      "cell_type": "code",
      "metadata": {
        "colab": {
          "base_uri": "https://localhost:8080/"
        },
        "id": "eIs5e9lx08vc",
        "outputId": "52531a98-a3b9-49ea-d6fd-95689d402d50"
      },
      "source": [
        "pprint(dicts)"
      ],
      "execution_count": null,
      "outputs": [
        {
          "output_type": "stream",
          "text": [
            "defaultdict(<class 'dict'>,\n",
            "            {0: {'audio_mode': 'https://www.youtube.com/watch?v=crFKtX7yFpQ&listen=1',\n",
            "                 'description': 'Covid relief and GOP infighting eclipse '\n",
            "                                'Trumpâ\\x80\\x99s impending trial | Impeachment '\n",
            "                                'This Week',\n",
            "                 'duration': '8:49',\n",
            "                 'img_src': '/vi/crFKtX7yFpQ/mqdefault.jpg',\n",
            "                 'time': '',\n",
            "                 'video_src': 'https://www.youtube.com/watch?v=crFKtX7yFpQ',\n",
            "                 'views': '3.2K views'},\n",
            "             1: {'audio_mode': 'https://www.youtube.com/watch?v=H1Y83kmQdG0&listen=1',\n",
            "                 'description': 'What we know about the latest coronavirus '\n",
            "                                'variants',\n",
            "                 'duration': '3:21',\n",
            "                 'img_src': '/vi/H1Y83kmQdG0/mqdefault.jpg',\n",
            "                 'time': 'Shared 18 hours ago',\n",
            "                 'video_src': 'https://www.youtube.com/watch?v=H1Y83kmQdG0',\n",
            "                 'views': '3.2K views'},\n",
            "             2: {'audio_mode': 'https://www.youtube.com/watch?v=LUbo2xMWNYM&listen=1',\n",
            "                 'description': 'House convenes to debate removing Marjorie '\n",
            "                                'Taylor Greene from committees',\n",
            "                 'duration': '8:13:21',\n",
            "                 'img_src': '/vi/LUbo2xMWNYM/mqdefault.jpg',\n",
            "                 'time': 'Shared 1 day ago',\n",
            "                 'video_src': 'https://www.youtube.com/watch?v=LUbo2xMWNYM',\n",
            "                 'views': '3.2K views'},\n",
            "             3: {'audio_mode': 'https://www.youtube.com/watch?v=6MPaGkeoV4c&listen=1',\n",
            "                 'description': 'House votes to strip Marjorie Taylor Greene '\n",
            "                                'of her committees over extremist remarks',\n",
            "                 'duration': '2:28',\n",
            "                 'img_src': '/vi/6MPaGkeoV4c/mqdefault.jpg',\n",
            "                 'time': 'Shared 1 day ago',\n",
            "                 'video_src': 'https://www.youtube.com/watch?v=6MPaGkeoV4c',\n",
            "                 'views': '3.2K views'},\n",
            "             4: {'audio_mode': 'https://www.youtube.com/watch?v=y8TpuNLh7nA&listen=1',\n",
            "                 'description': 'WATCH: Biden delivers remarks on foreign '\n",
            "                                'policy',\n",
            "                 'duration': '1:23:00',\n",
            "                 'img_src': '/vi/y8TpuNLh7nA/mqdefault.jpg',\n",
            "                 'time': 'Shared 1 day ago',\n",
            "                 'video_src': 'https://www.youtube.com/watch?v=y8TpuNLh7nA',\n",
            "                 'views': '3.2K views'},\n",
            "             5: {'audio_mode': 'https://www.youtube.com/watch?v=J-vA7LFMT6s&listen=1',\n",
            "                 'description': 'What Kevin McCarthy has said about the QAnon '\n",
            "                                'conspiracy theory',\n",
            "                 'duration': '1:27',\n",
            "                 'img_src': '/vi/J-vA7LFMT6s/mqdefault.jpg',\n",
            "                 'time': 'Shared 1 day ago',\n",
            "                 'video_src': 'https://www.youtube.com/watch?v=J-vA7LFMT6s',\n",
            "                 'views': '3.2K views'},\n",
            "             6: {'audio_mode': 'https://www.youtube.com/watch?v=v4ZtxL8yMA4&listen=1',\n",
            "                 'description': 'With millions watching, Republicans claim '\n",
            "                                'they are being silenced',\n",
            "                 'duration': '1:52',\n",
            "                 'img_src': '/vi/v4ZtxL8yMA4/mqdefault.jpg',\n",
            "                 'time': 'Shared 1 day ago',\n",
            "                 'video_src': 'https://www.youtube.com/watch?v=v4ZtxL8yMA4',\n",
            "                 'views': '3.2K views'},\n",
            "             7: {'audio_mode': 'https://www.youtube.com/watch?v=g1ywIExC4OU&listen=1',\n",
            "                 'description': 'WATCH: Marty Walsh testifies in front of '\n",
            "                                'Senate for labor secretary nomination',\n",
            "                 'duration': '2:46:25',\n",
            "                 'img_src': '/vi/g1ywIExC4OU/mqdefault.jpg',\n",
            "                 'time': 'Shared 1 day ago',\n",
            "                 'video_src': 'https://www.youtube.com/watch?v=g1ywIExC4OU',\n",
            "                 'views': '3.2K views'},\n",
            "             8: {'audio_mode': 'https://www.youtube.com/watch?v=iEGOvhb5dRE&listen=1',\n",
            "                 'description': 'WATCH: White House press secretary Psaki '\n",
            "                                'holds news conference',\n",
            "                 'duration': '1:16:26',\n",
            "                 'img_src': '/vi/iEGOvhb5dRE/mqdefault.jpg',\n",
            "                 'time': 'Shared 1 day ago',\n",
            "                 'video_src': 'https://www.youtube.com/watch?v=iEGOvhb5dRE',\n",
            "                 'views': '3.2K views'},\n",
            "             9: {'audio_mode': 'https://www.youtube.com/watch?v=Q4-RgrEYoQU&listen=1',\n",
            "                 'description': 'How is the NFL having the Super Bowl during a '\n",
            "                                'pandemic?',\n",
            "                 'duration': '4:00',\n",
            "                 'img_src': '/vi/Q4-RgrEYoQU/mqdefault.jpg',\n",
            "                 'time': 'Shared 1 day ago',\n",
            "                 'video_src': 'https://www.youtube.com/watch?v=Q4-RgrEYoQU',\n",
            "                 'views': '3.2K views'},\n",
            "             10: {'audio_mode': 'https://www.youtube.com/watch?v=XidCmlG_NPI&listen=1',\n",
            "                  'description': 'WATCH: Pelosi holds weekly news conference',\n",
            "                  'duration': '1:06:11',\n",
            "                  'img_src': '/vi/XidCmlG_NPI/mqdefault.jpg',\n",
            "                  'time': 'Shared 1 day ago',\n",
            "                  'video_src': 'https://www.youtube.com/watch?v=XidCmlG_NPI',\n",
            "                  'views': '3.2K views'},\n",
            "             11: {'audio_mode': 'https://www.youtube.com/watch?v=_Afa4eGNJWo&listen=1',\n",
            "                  'description': 'WATCH: Schumer, Warren, Pressley and Omar '\n",
            "                                 'hold a news conference on canceling student '\n",
            "                                 'loan debt',\n",
            "                  'duration': '45:56',\n",
            "                  'img_src': '/vi/_Afa4eGNJWo/mqdefault.jpg',\n",
            "                  'time': 'Shared 1 day ago',\n",
            "                  'video_src': 'https://www.youtube.com/watch?v=_Afa4eGNJWo',\n",
            "                  'views': '3.2K views'},\n",
            "             12: {'audio_mode': 'https://www.youtube.com/watch?v=wfJQwT3Jzg8&listen=1',\n",
            "                  'description': 'McCarthy defends Greene, Cheney after '\n",
            "                                 'conference vote',\n",
            "                  'duration': '3:11',\n",
            "                  'img_src': '/vi/wfJQwT3Jzg8/mqdefault.jpg',\n",
            "                  'time': 'Shared 1 day ago',\n",
            "                  'video_src': 'https://www.youtube.com/watch?v=wfJQwT3Jzg8',\n",
            "                  'views': '3.2K views'},\n",
            "             13: {'audio_mode': 'https://www.youtube.com/watch?v=o7VImW4PrIk&listen=1',\n",
            "                  'description': 'Michael Regan testifies in front of Senate '\n",
            "                                 'for EPA nomination - 2/3 (FULL LIVE STREAM)',\n",
            "                  'duration': '3:22:20',\n",
            "                  'img_src': '/vi/o7VImW4PrIk/mqdefault.jpg',\n",
            "                  'time': 'Shared 2 days ago',\n",
            "                  'video_src': 'https://www.youtube.com/watch?v=o7VImW4PrIk',\n",
            "                  'views': '3.2K views'},\n",
            "             14: {'audio_mode': 'https://www.youtube.com/watch?v=TUZYb08Lo-A&listen=1',\n",
            "                  'description': 'House hearing on removing Marjorie Taylor '\n",
            "                                 'Greene from committees - 2/3 (FULL LIVE '\n",
            "                                 'STREAM)',\n",
            "                  'duration': '2:03:51',\n",
            "                  'img_src': '/vi/TUZYb08Lo-A/mqdefault.jpg',\n",
            "                  'time': 'Shared 2 days ago',\n",
            "                  'video_src': 'https://www.youtube.com/watch?v=TUZYb08Lo-A',\n",
            "                  'views': '3.2K views'},\n",
            "             15: {'audio_mode': 'https://www.youtube.com/watch?v=DZ7q2mc68c0&listen=1',\n",
            "                  'description': 'What the fight against ISIS looks like as '\n",
            "                                 'U.S. troops pull out of Iraq',\n",
            "                  'duration': '2:59',\n",
            "                  'img_src': '/vi/DZ7q2mc68c0/mqdefault.jpg',\n",
            "                  'time': 'Shared 2 days ago',\n",
            "                  'video_src': 'https://www.youtube.com/watch?v=DZ7q2mc68c0',\n",
            "                  'views': '3.2K views'},\n",
            "             16: {'audio_mode': 'https://www.youtube.com/watch?v=K8LajjfEzH8&listen=1',\n",
            "                  'description': 'White House press secretary Psaki holds news '\n",
            "                                 'conference - 2/3 (FULL LIVE STREAM)',\n",
            "                  'duration': '43:25',\n",
            "                  'img_src': '/vi/K8LajjfEzH8/mqdefault.jpg',\n",
            "                  'time': 'Shared 2 days ago',\n",
            "                  'video_src': 'https://www.youtube.com/watch?v=K8LajjfEzH8',\n",
            "                  'views': '3.2K views'},\n",
            "             17: {'audio_mode': 'https://www.youtube.com/watch?v=-qYRaP-5gvc&listen=1',\n",
            "                  'description': 'Senate committee considers Miguel Cardona '\n",
            "                                 'for education secretary - 2/3 (FULL LIVE '\n",
            "                                 'STREAM)',\n",
            "                  'duration': '3:08:30',\n",
            "                  'img_src': '/vi/-qYRaP-5gvc/mqdefault.jpg',\n",
            "                  'time': 'Shared 2 days ago',\n",
            "                  'video_src': 'https://www.youtube.com/watch?v=-qYRaP-5gvc',\n",
            "                  'views': '3.2K views'},\n",
            "             18: {'audio_mode': 'https://www.youtube.com/watch?v=EVpN0EhgziE&listen=1',\n",
            "                  'description': 'WATCH: Isabel Guzman testifies in front of '\n",
            "                                 'Senate for small business administration '\n",
            "                                 'nomination',\n",
            "                  'duration': '2:29:00',\n",
            "                  'img_src': '/vi/EVpN0EhgziE/mqdefault.jpg',\n",
            "                  'time': 'Shared 2 days ago',\n",
            "                  'video_src': 'https://www.youtube.com/watch?v=EVpN0EhgziE',\n",
            "                  'views': '3.2K views'},\n",
            "             19: {'audio_mode': 'https://www.youtube.com/watch?v=8bLKxmXi5vI&listen=1',\n",
            "                  'description': 'White House covid-19 response team holds '\n",
            "                                 'news conference - 2/3 (FULL LIVE STREAM)',\n",
            "                  'duration': '29:40',\n",
            "                  'img_src': '/vi/8bLKxmXi5vI/mqdefault.jpg',\n",
            "                  'time': 'Shared 2 days ago',\n",
            "                  'video_src': 'https://www.youtube.com/watch?v=8bLKxmXi5vI',\n",
            "                  'views': '3.2K views'},\n",
            "             20: {'audio_mode': 'https://www.youtube.com/watch?v=p_yTIFneV84&listen=1',\n",
            "                  'description': 'President Biden, first lady pay respects to '\n",
            "                                 'Officer Brian Sicknick',\n",
            "                  'duration': '0:50',\n",
            "                  'img_src': '/vi/p_yTIFneV84/mqdefault.jpg',\n",
            "                  'time': 'Shared 3 days ago',\n",
            "                  'video_src': 'https://www.youtube.com/watch?v=p_yTIFneV84',\n",
            "                  'views': '3.2K views'},\n",
            "             21: {'audio_mode': 'https://www.youtube.com/watch?v=Weesf7YqEFs&listen=1',\n",
            "                  'description': 'Kamala Harris swears in Mayorkas Alejandro '\n",
            "                                 'Mayorkas - 2/2 (FULL LIVE STREAM)',\n",
            "                  'duration': '1:36',\n",
            "                  'img_src': '/vi/Weesf7YqEFs/mqdefault.jpg',\n",
            "                  'time': 'Shared 3 days ago',\n",
            "                  'video_src': 'https://www.youtube.com/watch?v=Weesf7YqEFs',\n",
            "                  'views': '3.2K views'},\n",
            "             22: {'audio_mode': 'https://www.youtube.com/watch?v=z60v7fLPbKg&listen=1',\n",
            "                  'description': 'Biden says new immigration orders eliminate '\n",
            "                                 \"'bad policy'\",\n",
            "                  'duration': '3:24',\n",
            "                  'img_src': '/vi/z60v7fLPbKg/mqdefault.jpg',\n",
            "                  'time': 'Shared 3 days ago',\n",
            "                  'video_src': 'https://www.youtube.com/watch?v=z60v7fLPbKg',\n",
            "                  'views': '3.2K views'},\n",
            "             23: {'audio_mode': 'https://www.youtube.com/watch?v=iRT0iIn13XE&listen=1',\n",
            "                  'description': 'President Biden signs executive orders on '\n",
            "                                 'immigration - 2/2 (FULL LIVE STREAM)',\n",
            "                  'duration': '5:54',\n",
            "                  'img_src': '/vi/iRT0iIn13XE/mqdefault.jpg',\n",
            "                  'time': 'Shared 3 days ago',\n",
            "                  'video_src': 'https://www.youtube.com/watch?v=iRT0iIn13XE',\n",
            "                  'views': '3.2K views'},\n",
            "             24: {'audio_mode': 'https://www.youtube.com/watch?v=qTtE5hljazk&listen=1',\n",
            "                  'description': 'White House press secretary Psaki holds news '\n",
            "                                 'conference - 2/2 (FULL LIVE STREAM)',\n",
            "                  'duration': '47:47',\n",
            "                  'img_src': '/vi/qTtE5hljazk/mqdefault.jpg',\n",
            "                  'time': 'Shared 3 days ago',\n",
            "                  'video_src': 'https://www.youtube.com/watch?v=qTtE5hljazk',\n",
            "                  'views': '3.2K views'},\n",
            "             25: {'audio_mode': 'https://www.youtube.com/watch?v=Ut2diFXVsHE&listen=1',\n",
            "                  'description': 'Senate panel holds confirmation hearing on '\n",
            "                                 'Tom Vilsack as agriculture secretary',\n",
            "                  'duration': '3:15:20',\n",
            "                  'img_src': '/vi/Ut2diFXVsHE/mqdefault.jpg',\n",
            "                  'time': 'Shared 3 days ago',\n",
            "                  'video_src': 'https://www.youtube.com/watch?v=Ut2diFXVsHE',\n",
            "                  'views': '3.2K views'},\n",
            "             26: {'audio_mode': 'https://www.youtube.com/watch?v=XwgkR_UuPyA&listen=1',\n",
            "                  'description': 'WATCH: White House holds coronavirus '\n",
            "                                 'briefing',\n",
            "                  'duration': '42:45',\n",
            "                  'img_src': '/vi/XwgkR_UuPyA/mqdefault.jpg',\n",
            "                  'time': 'Shared 3 days ago',\n",
            "                  'video_src': 'https://www.youtube.com/watch?v=XwgkR_UuPyA',\n",
            "                  'views': '3.2K views'},\n",
            "             27: {'audio_mode': 'https://www.youtube.com/watch?v=_ClD67POQMg&listen=1',\n",
            "                  'description': \"What it's like to receive a surprise \"\n",
            "                                 'coronavirus vaccine | Voices from the '\n",
            "                                 'Pandemic',\n",
            "                  'duration': '5:09',\n",
            "                  'img_src': '/vi/_ClD67POQMg/mqdefault.jpg',\n",
            "                  'time': 'Shared 3 days ago',\n",
            "                  'video_src': 'https://www.youtube.com/watch?v=_ClD67POQMg',\n",
            "                  'views': '3.2K views'},\n",
            "             28: {'audio_mode': 'https://www.youtube.com/watch?v=NYFcaL_n7qA&listen=1',\n",
            "                  'description': 'Why this Black woman with â\\x80\\x98long '\n",
            "                                 'covidâ\\x80\\x99 feels the medical community '\n",
            "                                 'has failed her',\n",
            "                  'duration': '9:40',\n",
            "                  'img_src': '/vi/NYFcaL_n7qA/mqdefault.jpg',\n",
            "                  'time': 'Shared 3 days ago',\n",
            "                  'video_src': 'https://www.youtube.com/watch?v=NYFcaL_n7qA',\n",
            "                  'views': '3.2K views'},\n",
            "             29: {'audio_mode': 'https://www.youtube.com/watch?v=p-2uSakNxrk&listen=1',\n",
            "                  'description': 'Groundhog Day 2021: Punxsutawney Phil '\n",
            "                                 'predicts how long winter will last',\n",
            "                  'duration': '12:07',\n",
            "                  'img_src': '/vi/p-2uSakNxrk/mqdefault.jpg',\n",
            "                  'time': 'Shared 4 days ago',\n",
            "                  'video_src': 'https://www.youtube.com/watch?v=p-2uSakNxrk',\n",
            "                  'views': '3.2K views'},\n",
            "             30: {'audio_mode': 'https://www.youtube.com/watch?v=Gy59C-HXMS0&listen=1',\n",
            "                  'description': \"Republican senators held 'productive' \"\n",
            "                                 'meeting with Biden, but no deal yet',\n",
            "                  'duration': '2:30',\n",
            "                  'img_src': '/vi/Gy59C-HXMS0/mqdefault.jpg',\n",
            "                  'time': 'Shared 4 days ago',\n",
            "                  'video_src': 'https://www.youtube.com/watch?v=Gy59C-HXMS0',\n",
            "                  'views': '3.2K views'},\n",
            "             31: {'audio_mode': 'https://www.youtube.com/watch?v=6Ze4Jh6BSBE&listen=1',\n",
            "                  'description': 'WATCH: White House press secretary Psaki '\n",
            "                                 'holds news conference',\n",
            "                  'duration': '58:25',\n",
            "                  'img_src': '/vi/6Ze4Jh6BSBE/mqdefault.jpg',\n",
            "                  'time': 'Shared 4 days ago',\n",
            "                  'video_src': 'https://www.youtube.com/watch?v=6Ze4Jh6BSBE',\n",
            "                  'views': '3.2K views'},\n",
            "             32: {'audio_mode': 'https://www.youtube.com/watch?v=I9HPtnixYhE&listen=1',\n",
            "                  'description': 'WATCH: White House covid-19 response team '\n",
            "                                 'holds news conference',\n",
            "                  'duration': '1:15:46',\n",
            "                  'img_src': '/vi/I9HPtnixYhE/mqdefault.jpg',\n",
            "                  'time': 'Shared 4 days ago',\n",
            "                  'video_src': 'https://www.youtube.com/watch?v=I9HPtnixYhE',\n",
            "                  'views': '3.2K views'},\n",
            "             33: {'audio_mode': 'https://www.youtube.com/watch?v=-1IW-Mw6vmQ&listen=1',\n",
            "                  'description': 'Watch a view of the White House as snow '\n",
            "                                 'falls in D.C.',\n",
            "                  'duration': '11:55:00',\n",
            "                  'img_src': '/vi/-1IW-Mw6vmQ/mqdefault.jpg',\n",
            "                  'time': 'Shared 5 days ago',\n",
            "                  'video_src': 'https://www.youtube.com/watch?v=-1IW-Mw6vmQ',\n",
            "                  'views': '3.2K views'},\n",
            "             34: {'audio_mode': 'https://www.youtube.com/watch?v=NYDEyeyiwAg&listen=1',\n",
            "                  'description': 'Snow in D.C.â\\x80\\x99s Rock Creek Park',\n",
            "                  'duration': '1:12',\n",
            "                  'img_src': '/vi/NYDEyeyiwAg/mqdefault.jpg',\n",
            "                  'time': 'Shared 5 days ago',\n",
            "                  'video_src': 'https://www.youtube.com/watch?v=NYDEyeyiwAg',\n",
            "                  'views': '3.2K views'},\n",
            "             35: {'audio_mode': 'https://www.youtube.com/watch?v=TxO6xlYlT1c&listen=1',\n",
            "                  'description': 'SNL Recap | John Krasinski hosts the first '\n",
            "                                 'SNL of the Biden era (S46 E10)',\n",
            "                  'duration': '2:50',\n",
            "                  'img_src': '/vi/TxO6xlYlT1c/mqdefault.jpg',\n",
            "                  'time': 'Shared 5 days ago',\n",
            "                  'video_src': 'https://www.youtube.com/watch?v=TxO6xlYlT1c',\n",
            "                  'views': '3.2K views'},\n",
            "             36: {'audio_mode': 'https://www.youtube.com/watch?v=AomNXMl5fXw&listen=1',\n",
            "                  'description': \"As Trump's impeachment trial nears, \"\n",
            "                                 \"Republicans mull questions on party's future\",\n",
            "                  'duration': '2:42',\n",
            "                  'img_src': '/vi/AomNXMl5fXw/mqdefault.jpg',\n",
            "                  'time': 'Shared 5 days ago',\n",
            "                  'video_src': 'https://www.youtube.com/watch?v=AomNXMl5fXw',\n",
            "                  'views': '3.2K views'},\n",
            "             37: {'audio_mode': 'https://www.youtube.com/watch?v=RpgjZKPYV-8&listen=1',\n",
            "                  'description': 'Bidenâ\\x80\\x99s racial equity plan is '\n",
            "                                 'ambitious, but is it enough?',\n",
            "                  'duration': '3:59',\n",
            "                  'img_src': '/vi/RpgjZKPYV-8/mqdefault.jpg',\n",
            "                  'time': 'Shared 6 days ago',\n",
            "                  'video_src': 'https://www.youtube.com/watch?v=RpgjZKPYV-8',\n",
            "                  'views': '3.2K views'},\n",
            "             38: {'audio_mode': 'https://www.youtube.com/watch?v=Q8jR-q25ZtM&listen=1',\n",
            "                  'description': \"What D.C. can expect for the weekend's snow\",\n",
            "                  'duration': '1:35',\n",
            "                  'img_src': '/vi/Q8jR-q25ZtM/mqdefault.jpg',\n",
            "                  'time': 'Shared 6 days ago',\n",
            "                  'video_src': 'https://www.youtube.com/watch?v=Q8jR-q25ZtM',\n",
            "                  'views': '3.2K views'},\n",
            "             39: {'audio_mode': 'https://www.youtube.com/watch?v=HbxSfWewcXE&listen=1',\n",
            "                  'description': 'Pandemic fatigue: How to cope as coronavirus '\n",
            "                                 'precautions drag on',\n",
            "                  'duration': '4:04',\n",
            "                  'img_src': '/vi/HbxSfWewcXE/mqdefault.jpg',\n",
            "                  'time': 'Shared 1 week ago',\n",
            "                  'video_src': 'https://www.youtube.com/watch?v=HbxSfWewcXE',\n",
            "                  'views': '3.2K views'},\n",
            "             40: {'audio_mode': 'https://www.youtube.com/watch?v=CMt4nDNG5LY&listen=1',\n",
            "                  'description': 'Biden tours coronavirus vaccine distribution '\n",
            "                                 'at Walter Reed',\n",
            "                  'duration': '1:14',\n",
            "                  'img_src': '/vi/CMt4nDNG5LY/mqdefault.jpg',\n",
            "                  'time': 'Shared 1 week ago',\n",
            "                  'video_src': 'https://www.youtube.com/watch?v=CMt4nDNG5LY',\n",
            "                  'views': '3.2K views'},\n",
            "             41: {'audio_mode': 'https://www.youtube.com/watch?v=3D9BmokeWvA&listen=1',\n",
            "                  'description': 'Biden: Coronavirus relief bill should pass, '\n",
            "                                 'with or without GOP support',\n",
            "                  'duration': '0:15',\n",
            "                  'img_src': '/vi/3D9BmokeWvA/mqdefault.jpg',\n",
            "                  'time': 'Shared 1 week ago',\n",
            "                  'video_src': 'https://www.youtube.com/watch?v=3D9BmokeWvA',\n",
            "                  'views': '3.2K views'},\n",
            "             42: {'audio_mode': 'https://www.youtube.com/watch?v=JbXsCVmoNPE&listen=1',\n",
            "                  'description': 'WATCH: Fauci and the White House covid-19 '\n",
            "                                 'response team hold news conference',\n",
            "                  'duration': '56:15',\n",
            "                  'img_src': '/vi/JbXsCVmoNPE/mqdefault.jpg',\n",
            "                  'time': 'Shared 1 week ago',\n",
            "                  'video_src': 'https://www.youtube.com/watch?v=JbXsCVmoNPE',\n",
            "                  'views': '3.2K views'},\n",
            "             43: {'audio_mode': 'https://www.youtube.com/watch?v=j7q7ZBRfSos&listen=1',\n",
            "                  'description': 'WATCH: White House press secretary Psaki '\n",
            "                                 'holds news conference',\n",
            "                  'duration': '1:03:40',\n",
            "                  'img_src': '/vi/j7q7ZBRfSos/mqdefault.jpg',\n",
            "                  'time': 'Shared 1 week ago',\n",
            "                  'video_src': 'https://www.youtube.com/watch?v=j7q7ZBRfSos',\n",
            "                  'views': '3.2K views'},\n",
            "             44: {'audio_mode': 'https://www.youtube.com/watch?v=BAP-9K96D4U&listen=1',\n",
            "                  'description': 'How Appleâ\\x80\\x99s new app privacy '\n",
            "                                 \"â\\x80\\x98nutrition labels' might be \"\n",
            "                                 'misleading you',\n",
            "                  'duration': '3:34',\n",
            "                  'img_src': '/vi/BAP-9K96D4U/mqdefault.jpg',\n",
            "                  'time': 'Shared 1 week ago',\n",
            "                  'video_src': 'https://www.youtube.com/watch?v=BAP-9K96D4U',\n",
            "                  'views': '3.2K views'},\n",
            "             45: {'audio_mode': 'https://www.youtube.com/watch?v=NE9n5NQTVFk&listen=1',\n",
            "                  'description': 'Marjorie Taylor Greene: Why members of '\n",
            "                                 'Congress want to expel her',\n",
            "                  'duration': '3:18',\n",
            "                  'img_src': '/vi/NE9n5NQTVFk/mqdefault.jpg',\n",
            "                  'time': 'Shared 1 week ago',\n",
            "                  'video_src': 'https://www.youtube.com/watch?v=NE9n5NQTVFk',\n",
            "                  'views': '3.2K views'},\n",
            "             46: {'audio_mode': 'https://www.youtube.com/watch?v=4y6WL3pmSxk&listen=1',\n",
            "                  'description': 'Republicans warned about Trumpâ\\x80\\x99s '\n",
            "                                 'rhetoric in 2016',\n",
            "                  'duration': '1:17',\n",
            "                  'img_src': '/vi/4y6WL3pmSxk/mqdefault.jpg',\n",
            "                  'time': 'Shared 1 week ago',\n",
            "                  'video_src': 'https://www.youtube.com/watch?v=4y6WL3pmSxk',\n",
            "                  'views': '3.2K views'},\n",
            "             47: {'audio_mode': 'https://www.youtube.com/watch?v=K0gwg0XutVY&listen=1',\n",
            "                  'description': 'How to properly wear a double mask',\n",
            "                  'duration': '1:14',\n",
            "                  'img_src': '/vi/K0gwg0XutVY/mqdefault.jpg',\n",
            "                  'time': 'Shared 1 week ago',\n",
            "                  'video_src': 'https://www.youtube.com/watch?v=K0gwg0XutVY',\n",
            "                  'views': '3.2K views'},\n",
            "             48: {'audio_mode': 'https://www.youtube.com/watch?v=fBvqj8i-bZU&listen=1',\n",
            "                  'description': 'White House press secretary Psaki holds news '\n",
            "                                 'conference - 1/28 (FULL LIVE STREAM)',\n",
            "                  'duration': '45:50',\n",
            "                  'img_src': '/vi/fBvqj8i-bZU/mqdefault.jpg',\n",
            "                  'time': 'Shared 1 week ago',\n",
            "                  'video_src': 'https://www.youtube.com/watch?v=fBvqj8i-bZU',\n",
            "                  'views': '3.2K views'},\n",
            "             49: {'audio_mode': 'https://www.youtube.com/watch?v=K24lxtNMdZ8&listen=1',\n",
            "                  'description': 'After Capitol mob and Kamala '\n",
            "                                 'Harrisâ\\x80\\x99s inauguration, women of '\n",
            "                                 'color in Congress want to fight racism',\n",
            "                  'duration': '3:29',\n",
            "                  'img_src': '/vi/K24lxtNMdZ8/mqdefault.jpg',\n",
            "                  'time': 'Shared 1 week ago',\n",
            "                  'video_src': 'https://www.youtube.com/watch?v=K24lxtNMdZ8',\n",
            "                  'views': '3.2K views'},\n",
            "             50: {'audio_mode': 'https://www.youtube.com/watch?v=Cl2LubksoAs&listen=1',\n",
            "                  'description': 'Biden signs executive orders on health care '\n",
            "                                 \"to 'undo the damage Trump has done'\",\n",
            "                  'duration': '2:18',\n",
            "                  'img_src': '/vi/Cl2LubksoAs/mqdefault.jpg',\n",
            "                  'time': 'Shared 1 week ago',\n",
            "                  'video_src': 'https://www.youtube.com/watch?v=Cl2LubksoAs',\n",
            "                  'views': '3.2K views'},\n",
            "             51: {'audio_mode': 'https://www.youtube.com/watch?v=D05U_Ho6fOk&listen=1',\n",
            "                  'description': 'Biden signs executive orders on health care '\n",
            "                                 '- 1/28 (FULL LIVE STREAM)',\n",
            "                  'duration': '3:06',\n",
            "                  'img_src': '/vi/D05U_Ho6fOk/mqdefault.jpg',\n",
            "                  'time': 'Shared 1 week ago',\n",
            "                  'video_src': 'https://www.youtube.com/watch?v=D05U_Ho6fOk',\n",
            "                  'views': '3.2K views'},\n",
            "             52: {'audio_mode': 'https://www.youtube.com/watch?v=_-w6vkpBXcM&listen=1',\n",
            "                  'description': 'Why is President Biden signing so many '\n",
            "                                 'executive orders?',\n",
            "                  'duration': '2:00',\n",
            "                  'img_src': '/vi/_-w6vkpBXcM/mqdefault.jpg',\n",
            "                  'time': 'Shared 1 week ago',\n",
            "                  'video_src': 'https://www.youtube.com/watch?v=_-w6vkpBXcM',\n",
            "                  'views': '3.2K views'},\n",
            "             53: {'audio_mode': 'https://www.youtube.com/watch?v=2OEvY3bqshg&listen=1',\n",
            "                  'description': 'Biden nominees Marcia Fudge, Cecilia Rouse '\n",
            "                                 'testify before Senate committee - 1/28 (FULL '\n",
            "                                 'LIVE STREAM)',\n",
            "                  'duration': '2:11:17',\n",
            "                  'img_src': '/vi/2OEvY3bqshg/mqdefault.jpg',\n",
            "                  'time': 'Shared 1 week ago',\n",
            "                  'video_src': 'https://www.youtube.com/watch?v=2OEvY3bqshg',\n",
            "                  'views': '3.2K views'},\n",
            "             54: {'audio_mode': 'https://www.youtube.com/watch?v=ZerU2r2Ca0M&listen=1',\n",
            "                  'description': 'Nancy Pelosi holds weekly news conference - '\n",
            "                                 '1/28 (FULL LIVE STREAM)',\n",
            "                  'duration': '17:26',\n",
            "                  'img_src': '/vi/ZerU2r2Ca0M/mqdefault.jpg',\n",
            "                  'time': 'Shared 1 week ago',\n",
            "                  'video_src': 'https://www.youtube.com/watch?v=ZerU2r2Ca0M',\n",
            "                  'views': '3.2K views'},\n",
            "             55: {'audio_mode': 'https://www.youtube.com/watch?v=c7YyqZj-cJM&listen=1',\n",
            "                  'description': 'Was the attack on the U.S. Capitol an '\n",
            "                                 'attempted coup?',\n",
            "                  'duration': '3:18',\n",
            "                  'img_src': '/vi/c7YyqZj-cJM/mqdefault.jpg',\n",
            "                  'time': 'Shared 1 week ago',\n",
            "                  'video_src': 'https://www.youtube.com/watch?v=c7YyqZj-cJM',\n",
            "                  'views': '3.2K views'},\n",
            "             56: {'audio_mode': 'https://www.youtube.com/watch?v=5JAQuUElf7E&listen=1',\n",
            "                  'description': 'WATCH: Senate hearing to consider Denis '\n",
            "                                 'McDonough as Secretary of Veterans Affairs',\n",
            "                  'duration': '2:28:55',\n",
            "                  'img_src': '/vi/5JAQuUElf7E/mqdefault.jpg',\n",
            "                  'time': 'Shared 1 week ago',\n",
            "                  'video_src': 'https://www.youtube.com/watch?v=5JAQuUElf7E',\n",
            "                  'views': '3.2K views'},\n",
            "             57: {'audio_mode': 'https://www.youtube.com/watch?v=AhpWogjgcKE&listen=1',\n",
            "                  'description': 'Secretary of State Blinken holds news '\n",
            "                                 'briefing',\n",
            "                  'duration': '38:45',\n",
            "                  'img_src': '/vi/AhpWogjgcKE/mqdefault.jpg',\n",
            "                  'time': 'Shared 1 week ago',\n",
            "                  'video_src': 'https://www.youtube.com/watch?v=AhpWogjgcKE',\n",
            "                  'views': '3.2K views'},\n",
            "             58: {'audio_mode': 'https://www.youtube.com/watch?v=dCbMHUX_Ny0&listen=1',\n",
            "                  'description': 'WATCH: Biden delivers remarks on combating '\n",
            "                                 'climate change',\n",
            "                  'duration': '1:17:20',\n",
            "                  'img_src': '/vi/dCbMHUX_Ny0/mqdefault.jpg',\n",
            "                  'time': 'Shared 1 week ago',\n",
            "                  'video_src': 'https://www.youtube.com/watch?v=dCbMHUX_Ny0',\n",
            "                  'views': '3.2K views'},\n",
            "             59: {'audio_mode': 'https://www.youtube.com/watch?v=QFoOgH0T5tA&listen=1',\n",
            "                  'description': 'John Kerry, Gina McCarthy join Jen Psaki at '\n",
            "                                 'White House briefing  - 1/27 (FULL LIVE '\n",
            "                                 'STREAM)',\n",
            "                  'duration': '53:30',\n",
            "                  'img_src': '/vi/QFoOgH0T5tA/mqdefault.jpg',\n",
            "                  'time': 'Shared 1 week ago',\n",
            "                  'video_src': 'https://www.youtube.com/watch?v=QFoOgH0T5tA',\n",
            "                  'views': '3.2K views'}})\n"
          ],
          "name": "stdout"
        }
      ]
    },
    {
      "cell_type": "code",
      "metadata": {
        "id": "wH8r6flc1BGK"
      },
      "source": [
        "def get_user_id(url):\r\n",
        "  id = url.split(\"/\")[-1]\r\n",
        "  search_url = \"https://vid.puffyan.us/search?q=/\"+id\r\n",
        "  r = requests.get(search_url)\r\n",
        "  html = r.text\r\n",
        "  soup = BeautifulSoup(html,\"html.parser\")\r\n",
        "  return soup.find_all(\"div\",{\"class\":\"pure-u-1 pure-u-md-1-4\"})[0].find(\"a\")['href'].split(\"/\")[-1]\r\n",
        "\r\n",
        "\r\n",
        "def parse_youtube_channel(link):\r\n",
        "  \"\"\"\r\n",
        "  link - link of the channel\r\n",
        "  returns - string form of json extracted data\r\n",
        "  \"\"\"\r\n",
        "  link = \"https://vid.puffyan.us/channel/\"+ get_user_id(link)\r\n",
        "  r = requests.get(link)\r\n",
        "  final_dict = defaultdict(list)\r\n",
        "  html = r.text\r\n",
        "  text = BeautifulSoup(html,\"html.parser\")\r\n",
        "  channel_name = text.find_all(\"div\",{\"class\":\"channel-profile\"})[0].get_text().lstrip().rstrip()\r\n",
        "  channle_picture = text.find_all(\"div\",{\"class\":\"channel-profile\"})[0].find(\"img\")['src']\r\n",
        "  rss_feed =  text.find_all(\"i\",{\"class\":\"icon ion-logo-rss\"})[0].parent.parent.find(\"a\")['href']\r\n",
        "  channel_bio = text.find_all(\"span\")[2].get_text()\r\n",
        "  suscriber_count = text.findAll(\"a\",{\"class\":\"pure-button pure-button-primary\"})[0].get_text().lstrip().rstrip()\r\n",
        "  latest_vids = text.findAll(\"div\",{\"class\":\"pure-u-1 pure-u-md-1-4\"})\r\n",
        "  k=0\r\n",
        "  dicts = defaultdict(dict)\r\n",
        "  base_url = \"https://www.youtube.com\"\r\n",
        "  for i in latest_vids:\r\n",
        "    img_vid = i.find(\"img\")['src']\r\n",
        "    duration = i.findAll('a')[0].find('p').get_text()\r\n",
        "    desc = i.findAll('a')[1].get_text()\r\n",
        "    audio_mode = base_url+i.findAll('a')[3]['href']\r\n",
        "    video_src = base_url+i.findAll('a')[1]['href']\r\n",
        "    time = i.findAll(\"div\",{\"class\":\"pure-u-2-3\"})[0].get_text()\r\n",
        "    views = latest_vids[1].findAll(\"div\",{\"class\":\"pure-u-1-3\"})[0].get_text().lstrip().rstrip()\r\n",
        "    dicts[k]['video_src'] = video_src\r\n",
        "    dicts[k]['img_src'] = img_vid\r\n",
        "    dicts[k]['duration'] = duration\r\n",
        "    dicts[k]['description'] = desc\r\n",
        "    dicts[k]['audio_mode'] = audio_mode\r\n",
        "    dicts[k]['views'] = views\r\n",
        "    dicts[k]['time'] = time\r\n",
        "    k+=1\r\n",
        "  final_dict['channel name'] = channel_name\r\n",
        "  final_dict['channel picture'] = channle_picture\r\n",
        "  final_dict['channel bio'] = channel_bio\r\n",
        "  final_dict['rss_feed'] = rss_feed\r\n",
        "  final_dict['suscriber_count'] = suscriber_count\r\n",
        "  final_dict['latest_vids'] = json.dumps(dicts)\r\n",
        "  return json.dumps(final_dict)"
      ],
      "execution_count": null,
      "outputs": []
    },
    {
      "cell_type": "code",
      "metadata": {
        "id": "GVVwFusU3_dY"
      },
      "source": [
        "import json\r\n",
        "import pandas as pd"
      ],
      "execution_count": null,
      "outputs": []
    },
    {
      "cell_type": "code",
      "metadata": {
        "id": "nzepliCg4A8W"
      },
      "source": [
        "sting = json.loads( parse_youtube_channel(\"https://www.youtube.com/user/WashingtonPost\"))"
      ],
      "execution_count": null,
      "outputs": []
    },
    {
      "cell_type": "code",
      "metadata": {
        "colab": {
          "base_uri": "https://localhost:8080/"
        },
        "id": "V9tHvmpt4MVl",
        "outputId": "fd400196-0a9b-4988-9305-9c75d5067445"
      },
      "source": [
        "pprint(sting)"
      ],
      "execution_count": null,
      "outputs": [
        {
          "output_type": "stream",
          "text": [
            "{'channel bio': 'Live events, breaking news, analysis and more from The '\n",
            "                'Washington Post.Comments and community are moderated '\n",
            "                'according to these rules: http://wapo.st/rules',\n",
            " 'channel name': 'Washington Post',\n",
            " 'channel picture': '/ggpht/ytc/AAUvwnj8plhgrlNYWMBPt5GX9sI0bDOnL6U1Rxm0pIUoNg=s900-c-k-c0x00ffffff-no-rj',\n",
            " 'latest_vids': '{\"0\": {\"video_src\": '\n",
            "                '\"https://www.youtube.com/watch?v=KJkNq52sIDU\", \"img_src\": '\n",
            "                '\"/vi/KJkNq52sIDU/mqdefault.jpg\", \"duration\": \"8:49\", '\n",
            "                '\"description\": \"Covid relief and GOP infighting eclipse '\n",
            "                'Trump\\\\u00e2\\\\u0080\\\\u0099s impending trial | Impeachment '\n",
            "                'This Week\", \"audio_mode\": '\n",
            "                '\"https://www.youtube.com/watch?v=KJkNq52sIDU&listen=1\", '\n",
            "                '\"views\": \"765 views\", \"time\": \"Shared 22 minutes ago\"}, \"1\": '\n",
            "                '{\"video_src\": \"https://www.youtube.com/watch?v=H5dKnEf21Pw\", '\n",
            "                '\"img_src\": \"/vi/H5dKnEf21Pw/mqdefault.jpg\", \"duration\": '\n",
            "                '\"8:49\", \"description\": \"Covid relief and GOP infighting '\n",
            "                'eclipse Trump\\\\u00e2\\\\u0080\\\\u0099s impending trial | '\n",
            "                'Impeachment This Week\", \"audio_mode\": '\n",
            "                '\"https://www.youtube.com/watch?v=H5dKnEf21Pw&listen=1\", '\n",
            "                '\"views\": \"765 views\", \"time\": \"Shared 24 minutes ago\"}, \"2\": '\n",
            "                '{\"video_src\": \"https://www.youtube.com/watch?v=H1Y83kmQdG0\", '\n",
            "                '\"img_src\": \"/vi/H1Y83kmQdG0/mqdefault.jpg\", \"duration\": '\n",
            "                '\"3:21\", \"description\": \"What we know about the latest '\n",
            "                'coronavirus variants\", \"audio_mode\": '\n",
            "                '\"https://www.youtube.com/watch?v=H1Y83kmQdG0&listen=1\", '\n",
            "                '\"views\": \"765 views\", \"time\": \"Shared 18 hours ago\"}, \"3\": '\n",
            "                '{\"video_src\": \"https://www.youtube.com/watch?v=LUbo2xMWNYM\", '\n",
            "                '\"img_src\": \"/vi/LUbo2xMWNYM/mqdefault.jpg\", \"duration\": '\n",
            "                '\"8:13:21\", \"description\": \"House convenes to debate removing '\n",
            "                'Marjorie Taylor Greene from committees\", \"audio_mode\": '\n",
            "                '\"https://www.youtube.com/watch?v=LUbo2xMWNYM&listen=1\", '\n",
            "                '\"views\": \"765 views\", \"time\": \"Shared 1 day ago\"}, \"4\": '\n",
            "                '{\"video_src\": \"https://www.youtube.com/watch?v=6MPaGkeoV4c\", '\n",
            "                '\"img_src\": \"/vi/6MPaGkeoV4c/mqdefault.jpg\", \"duration\": '\n",
            "                '\"2:28\", \"description\": \"House votes to strip Marjorie Taylor '\n",
            "                'Greene of her committees over extremist remarks\", '\n",
            "                '\"audio_mode\": '\n",
            "                '\"https://www.youtube.com/watch?v=6MPaGkeoV4c&listen=1\", '\n",
            "                '\"views\": \"765 views\", \"time\": \"Shared 1 day ago\"}, \"5\": '\n",
            "                '{\"video_src\": \"https://www.youtube.com/watch?v=y8TpuNLh7nA\", '\n",
            "                '\"img_src\": \"/vi/y8TpuNLh7nA/mqdefault.jpg\", \"duration\": '\n",
            "                '\"1:23:00\", \"description\": \"WATCH: Biden delivers remarks on '\n",
            "                'foreign policy\", \"audio_mode\": '\n",
            "                '\"https://www.youtube.com/watch?v=y8TpuNLh7nA&listen=1\", '\n",
            "                '\"views\": \"765 views\", \"time\": \"Shared 1 day ago\"}, \"6\": '\n",
            "                '{\"video_src\": \"https://www.youtube.com/watch?v=J-vA7LFMT6s\", '\n",
            "                '\"img_src\": \"/vi/J-vA7LFMT6s/mqdefault.jpg\", \"duration\": '\n",
            "                '\"1:27\", \"description\": \"What Kevin McCarthy has said about '\n",
            "                'the QAnon conspiracy theory\", \"audio_mode\": '\n",
            "                '\"https://www.youtube.com/watch?v=J-vA7LFMT6s&listen=1\", '\n",
            "                '\"views\": \"765 views\", \"time\": \"Shared 1 day ago\"}, \"7\": '\n",
            "                '{\"video_src\": \"https://www.youtube.com/watch?v=v4ZtxL8yMA4\", '\n",
            "                '\"img_src\": \"/vi/v4ZtxL8yMA4/mqdefault.jpg\", \"duration\": '\n",
            "                '\"1:52\", \"description\": \"With millions watching, Republicans '\n",
            "                'claim they are being silenced\", \"audio_mode\": '\n",
            "                '\"https://www.youtube.com/watch?v=v4ZtxL8yMA4&listen=1\", '\n",
            "                '\"views\": \"765 views\", \"time\": \"Shared 1 day ago\"}, \"8\": '\n",
            "                '{\"video_src\": \"https://www.youtube.com/watch?v=g1ywIExC4OU\", '\n",
            "                '\"img_src\": \"/vi/g1ywIExC4OU/mqdefault.jpg\", \"duration\": '\n",
            "                '\"2:46:25\", \"description\": \"WATCH: Marty Walsh testifies in '\n",
            "                'front of Senate for labor secretary nomination\", '\n",
            "                '\"audio_mode\": '\n",
            "                '\"https://www.youtube.com/watch?v=g1ywIExC4OU&listen=1\", '\n",
            "                '\"views\": \"765 views\", \"time\": \"Shared 1 day ago\"}, \"9\": '\n",
            "                '{\"video_src\": \"https://www.youtube.com/watch?v=iEGOvhb5dRE\", '\n",
            "                '\"img_src\": \"/vi/iEGOvhb5dRE/mqdefault.jpg\", \"duration\": '\n",
            "                '\"1:16:26\", \"description\": \"WATCH: White House press secretary '\n",
            "                'Psaki holds news conference\", \"audio_mode\": '\n",
            "                '\"https://www.youtube.com/watch?v=iEGOvhb5dRE&listen=1\", '\n",
            "                '\"views\": \"765 views\", \"time\": \"Shared 1 day ago\"}, \"10\": '\n",
            "                '{\"video_src\": \"https://www.youtube.com/watch?v=Q4-RgrEYoQU\", '\n",
            "                '\"img_src\": \"/vi/Q4-RgrEYoQU/mqdefault.jpg\", \"duration\": '\n",
            "                '\"4:00\", \"description\": \"How is the NFL having the Super Bowl '\n",
            "                'during a pandemic?\", \"audio_mode\": '\n",
            "                '\"https://www.youtube.com/watch?v=Q4-RgrEYoQU&listen=1\", '\n",
            "                '\"views\": \"765 views\", \"time\": \"Shared 1 day ago\"}, \"11\": '\n",
            "                '{\"video_src\": \"https://www.youtube.com/watch?v=XidCmlG_NPI\", '\n",
            "                '\"img_src\": \"/vi/XidCmlG_NPI/mqdefault.jpg\", \"duration\": '\n",
            "                '\"1:06:11\", \"description\": \"WATCH: Pelosi holds weekly news '\n",
            "                'conference\", \"audio_mode\": '\n",
            "                '\"https://www.youtube.com/watch?v=XidCmlG_NPI&listen=1\", '\n",
            "                '\"views\": \"765 views\", \"time\": \"Shared 1 day ago\"}, \"12\": '\n",
            "                '{\"video_src\": \"https://www.youtube.com/watch?v=_Afa4eGNJWo\", '\n",
            "                '\"img_src\": \"/vi/_Afa4eGNJWo/mqdefault.jpg\", \"duration\": '\n",
            "                '\"45:56\", \"description\": \"WATCH: Schumer, Warren, Pressley and '\n",
            "                'Omar hold a news conference on canceling student loan debt\", '\n",
            "                '\"audio_mode\": '\n",
            "                '\"https://www.youtube.com/watch?v=_Afa4eGNJWo&listen=1\", '\n",
            "                '\"views\": \"765 views\", \"time\": \"Shared 1 day ago\"}, \"13\": '\n",
            "                '{\"video_src\": \"https://www.youtube.com/watch?v=wfJQwT3Jzg8\", '\n",
            "                '\"img_src\": \"/vi/wfJQwT3Jzg8/mqdefault.jpg\", \"duration\": '\n",
            "                '\"3:11\", \"description\": \"McCarthy defends Greene, Cheney after '\n",
            "                'conference vote\", \"audio_mode\": '\n",
            "                '\"https://www.youtube.com/watch?v=wfJQwT3Jzg8&listen=1\", '\n",
            "                '\"views\": \"765 views\", \"time\": \"Shared 1 day ago\"}, \"14\": '\n",
            "                '{\"video_src\": \"https://www.youtube.com/watch?v=o7VImW4PrIk\", '\n",
            "                '\"img_src\": \"/vi/o7VImW4PrIk/mqdefault.jpg\", \"duration\": '\n",
            "                '\"3:22:20\", \"description\": \"Michael Regan testifies in front '\n",
            "                'of Senate for EPA nomination - 2/3 (FULL LIVE STREAM)\", '\n",
            "                '\"audio_mode\": '\n",
            "                '\"https://www.youtube.com/watch?v=o7VImW4PrIk&listen=1\", '\n",
            "                '\"views\": \"765 views\", \"time\": \"Shared 2 days ago\"}, \"15\": '\n",
            "                '{\"video_src\": \"https://www.youtube.com/watch?v=TUZYb08Lo-A\", '\n",
            "                '\"img_src\": \"/vi/TUZYb08Lo-A/mqdefault.jpg\", \"duration\": '\n",
            "                '\"2:03:51\", \"description\": \"House hearing on removing Marjorie '\n",
            "                'Taylor Greene from committees - 2/3 (FULL LIVE STREAM)\", '\n",
            "                '\"audio_mode\": '\n",
            "                '\"https://www.youtube.com/watch?v=TUZYb08Lo-A&listen=1\", '\n",
            "                '\"views\": \"765 views\", \"time\": \"Shared 2 days ago\"}, \"16\": '\n",
            "                '{\"video_src\": \"https://www.youtube.com/watch?v=DZ7q2mc68c0\", '\n",
            "                '\"img_src\": \"/vi/DZ7q2mc68c0/mqdefault.jpg\", \"duration\": '\n",
            "                '\"2:59\", \"description\": \"What the fight against ISIS looks '\n",
            "                'like as U.S. troops pull out of Iraq\", \"audio_mode\": '\n",
            "                '\"https://www.youtube.com/watch?v=DZ7q2mc68c0&listen=1\", '\n",
            "                '\"views\": \"765 views\", \"time\": \"Shared 2 days ago\"}, \"17\": '\n",
            "                '{\"video_src\": \"https://www.youtube.com/watch?v=K8LajjfEzH8\", '\n",
            "                '\"img_src\": \"/vi/K8LajjfEzH8/mqdefault.jpg\", \"duration\": '\n",
            "                '\"43:25\", \"description\": \"White House press secretary Psaki '\n",
            "                'holds news conference - 2/3 (FULL LIVE STREAM)\", '\n",
            "                '\"audio_mode\": '\n",
            "                '\"https://www.youtube.com/watch?v=K8LajjfEzH8&listen=1\", '\n",
            "                '\"views\": \"765 views\", \"time\": \"Shared 2 days ago\"}, \"18\": '\n",
            "                '{\"video_src\": \"https://www.youtube.com/watch?v=-qYRaP-5gvc\", '\n",
            "                '\"img_src\": \"/vi/-qYRaP-5gvc/mqdefault.jpg\", \"duration\": '\n",
            "                '\"3:08:30\", \"description\": \"Senate committee considers Miguel '\n",
            "                'Cardona for education secretary - 2/3 (FULL LIVE STREAM)\", '\n",
            "                '\"audio_mode\": '\n",
            "                '\"https://www.youtube.com/watch?v=-qYRaP-5gvc&listen=1\", '\n",
            "                '\"views\": \"765 views\", \"time\": \"Shared 2 days ago\"}, \"19\": '\n",
            "                '{\"video_src\": \"https://www.youtube.com/watch?v=EVpN0EhgziE\", '\n",
            "                '\"img_src\": \"/vi/EVpN0EhgziE/mqdefault.jpg\", \"duration\": '\n",
            "                '\"2:29:00\", \"description\": \"WATCH: Isabel Guzman testifies in '\n",
            "                'front of Senate for small business administration '\n",
            "                'nomination\", \"audio_mode\": '\n",
            "                '\"https://www.youtube.com/watch?v=EVpN0EhgziE&listen=1\", '\n",
            "                '\"views\": \"765 views\", \"time\": \"Shared 2 days ago\"}, \"20\": '\n",
            "                '{\"video_src\": \"https://www.youtube.com/watch?v=8bLKxmXi5vI\", '\n",
            "                '\"img_src\": \"/vi/8bLKxmXi5vI/mqdefault.jpg\", \"duration\": '\n",
            "                '\"29:40\", \"description\": \"White House covid-19 response team '\n",
            "                'holds news conference - 2/3 (FULL LIVE STREAM)\", '\n",
            "                '\"audio_mode\": '\n",
            "                '\"https://www.youtube.com/watch?v=8bLKxmXi5vI&listen=1\", '\n",
            "                '\"views\": \"765 views\", \"time\": \"Shared 2 days ago\"}, \"21\": '\n",
            "                '{\"video_src\": \"https://www.youtube.com/watch?v=p_yTIFneV84\", '\n",
            "                '\"img_src\": \"/vi/p_yTIFneV84/mqdefault.jpg\", \"duration\": '\n",
            "                '\"0:50\", \"description\": \"President Biden, first lady pay '\n",
            "                'respects to Officer Brian Sicknick\", \"audio_mode\": '\n",
            "                '\"https://www.youtube.com/watch?v=p_yTIFneV84&listen=1\", '\n",
            "                '\"views\": \"765 views\", \"time\": \"Shared 3 days ago\"}, \"22\": '\n",
            "                '{\"video_src\": \"https://www.youtube.com/watch?v=Weesf7YqEFs\", '\n",
            "                '\"img_src\": \"/vi/Weesf7YqEFs/mqdefault.jpg\", \"duration\": '\n",
            "                '\"1:36\", \"description\": \"Kamala Harris swears in Mayorkas '\n",
            "                'Alejandro Mayorkas - 2/2 (FULL LIVE STREAM)\", \"audio_mode\": '\n",
            "                '\"https://www.youtube.com/watch?v=Weesf7YqEFs&listen=1\", '\n",
            "                '\"views\": \"765 views\", \"time\": \"Shared 3 days ago\"}, \"23\": '\n",
            "                '{\"video_src\": \"https://www.youtube.com/watch?v=z60v7fLPbKg\", '\n",
            "                '\"img_src\": \"/vi/z60v7fLPbKg/mqdefault.jpg\", \"duration\": '\n",
            "                '\"3:24\", \"description\": \"Biden says new immigration orders '\n",
            "                'eliminate \\'bad policy\\'\", \"audio_mode\": '\n",
            "                '\"https://www.youtube.com/watch?v=z60v7fLPbKg&listen=1\", '\n",
            "                '\"views\": \"765 views\", \"time\": \"Shared 3 days ago\"}, \"24\": '\n",
            "                '{\"video_src\": \"https://www.youtube.com/watch?v=iRT0iIn13XE\", '\n",
            "                '\"img_src\": \"/vi/iRT0iIn13XE/mqdefault.jpg\", \"duration\": '\n",
            "                '\"5:54\", \"description\": \"President Biden signs executive '\n",
            "                'orders on immigration - 2/2 (FULL LIVE STREAM)\", '\n",
            "                '\"audio_mode\": '\n",
            "                '\"https://www.youtube.com/watch?v=iRT0iIn13XE&listen=1\", '\n",
            "                '\"views\": \"765 views\", \"time\": \"Shared 3 days ago\"}, \"25\": '\n",
            "                '{\"video_src\": \"https://www.youtube.com/watch?v=qTtE5hljazk\", '\n",
            "                '\"img_src\": \"/vi/qTtE5hljazk/mqdefault.jpg\", \"duration\": '\n",
            "                '\"47:47\", \"description\": \"White House press secretary Psaki '\n",
            "                'holds news conference - 2/2 (FULL LIVE STREAM)\", '\n",
            "                '\"audio_mode\": '\n",
            "                '\"https://www.youtube.com/watch?v=qTtE5hljazk&listen=1\", '\n",
            "                '\"views\": \"765 views\", \"time\": \"Shared 3 days ago\"}, \"26\": '\n",
            "                '{\"video_src\": \"https://www.youtube.com/watch?v=Ut2diFXVsHE\", '\n",
            "                '\"img_src\": \"/vi/Ut2diFXVsHE/mqdefault.jpg\", \"duration\": '\n",
            "                '\"3:15:20\", \"description\": \"Senate panel holds confirmation '\n",
            "                'hearing on Tom Vilsack as agriculture secretary\", '\n",
            "                '\"audio_mode\": '\n",
            "                '\"https://www.youtube.com/watch?v=Ut2diFXVsHE&listen=1\", '\n",
            "                '\"views\": \"765 views\", \"time\": \"Shared 3 days ago\"}, \"27\": '\n",
            "                '{\"video_src\": \"https://www.youtube.com/watch?v=XwgkR_UuPyA\", '\n",
            "                '\"img_src\": \"/vi/XwgkR_UuPyA/mqdefault.jpg\", \"duration\": '\n",
            "                '\"42:45\", \"description\": \"WATCH: White House holds coronavirus '\n",
            "                'briefing\", \"audio_mode\": '\n",
            "                '\"https://www.youtube.com/watch?v=XwgkR_UuPyA&listen=1\", '\n",
            "                '\"views\": \"765 views\", \"time\": \"Shared 3 days ago\"}, \"28\": '\n",
            "                '{\"video_src\": \"https://www.youtube.com/watch?v=_ClD67POQMg\", '\n",
            "                '\"img_src\": \"/vi/_ClD67POQMg/mqdefault.jpg\", \"duration\": '\n",
            "                '\"5:09\", \"description\": \"What it\\'s like to receive a surprise '\n",
            "                'coronavirus vaccine | Voices from the Pandemic\", '\n",
            "                '\"audio_mode\": '\n",
            "                '\"https://www.youtube.com/watch?v=_ClD67POQMg&listen=1\", '\n",
            "                '\"views\": \"765 views\", \"time\": \"Shared 3 days ago\"}, \"29\": '\n",
            "                '{\"video_src\": \"https://www.youtube.com/watch?v=NYFcaL_n7qA\", '\n",
            "                '\"img_src\": \"/vi/NYFcaL_n7qA/mqdefault.jpg\", \"duration\": '\n",
            "                '\"9:40\", \"description\": \"Why this Black woman with '\n",
            "                '\\\\u00e2\\\\u0080\\\\u0098long covid\\\\u00e2\\\\u0080\\\\u0099 feels '\n",
            "                'the medical community has failed her\", \"audio_mode\": '\n",
            "                '\"https://www.youtube.com/watch?v=NYFcaL_n7qA&listen=1\", '\n",
            "                '\"views\": \"765 views\", \"time\": \"Shared 4 days ago\"}, \"30\": '\n",
            "                '{\"video_src\": \"https://www.youtube.com/watch?v=NYFcaL_n7qA\", '\n",
            "                '\"img_src\": \"/vi/NYFcaL_n7qA/mqdefault.jpg\", \"duration\": '\n",
            "                '\"9:40\", \"description\": \"Why this Black woman with '\n",
            "                '\\\\u00e2\\\\u0080\\\\u0098long covid\\\\u00e2\\\\u0080\\\\u0099 feels '\n",
            "                'the medical community has failed her\", \"audio_mode\": '\n",
            "                '\"https://www.youtube.com/watch?v=NYFcaL_n7qA&listen=1\", '\n",
            "                '\"views\": \"765 views\", \"time\": \"Shared 4 days ago\"}, \"31\": '\n",
            "                '{\"video_src\": \"https://www.youtube.com/watch?v=p-2uSakNxrk\", '\n",
            "                '\"img_src\": \"/vi/p-2uSakNxrk/mqdefault.jpg\", \"duration\": '\n",
            "                '\"12:07\", \"description\": \"Groundhog Day 2021: Punxsutawney '\n",
            "                'Phil predicts how long winter will last\", \"audio_mode\": '\n",
            "                '\"https://www.youtube.com/watch?v=p-2uSakNxrk&listen=1\", '\n",
            "                '\"views\": \"765 views\", \"time\": \"Shared 4 days ago\"}, \"32\": '\n",
            "                '{\"video_src\": \"https://www.youtube.com/watch?v=Gy59C-HXMS0\", '\n",
            "                '\"img_src\": \"/vi/Gy59C-HXMS0/mqdefault.jpg\", \"duration\": '\n",
            "                '\"2:30\", \"description\": \"Republican senators held '\n",
            "                '\\'productive\\' meeting with Biden, but no deal yet\", '\n",
            "                '\"audio_mode\": '\n",
            "                '\"https://www.youtube.com/watch?v=Gy59C-HXMS0&listen=1\", '\n",
            "                '\"views\": \"765 views\", \"time\": \"Shared 4 days ago\"}, \"33\": '\n",
            "                '{\"video_src\": \"https://www.youtube.com/watch?v=6Ze4Jh6BSBE\", '\n",
            "                '\"img_src\": \"/vi/6Ze4Jh6BSBE/mqdefault.jpg\", \"duration\": '\n",
            "                '\"58:25\", \"description\": \"WATCH: White House press secretary '\n",
            "                'Psaki holds news conference\", \"audio_mode\": '\n",
            "                '\"https://www.youtube.com/watch?v=6Ze4Jh6BSBE&listen=1\", '\n",
            "                '\"views\": \"765 views\", \"time\": \"Shared 4 days ago\"}, \"34\": '\n",
            "                '{\"video_src\": \"https://www.youtube.com/watch?v=I9HPtnixYhE\", '\n",
            "                '\"img_src\": \"/vi/I9HPtnixYhE/mqdefault.jpg\", \"duration\": '\n",
            "                '\"1:15:46\", \"description\": \"WATCH: White House covid-19 '\n",
            "                'response team holds news conference\", \"audio_mode\": '\n",
            "                '\"https://www.youtube.com/watch?v=I9HPtnixYhE&listen=1\", '\n",
            "                '\"views\": \"765 views\", \"time\": \"Shared 4 days ago\"}, \"35\": '\n",
            "                '{\"video_src\": \"https://www.youtube.com/watch?v=-1IW-Mw6vmQ\", '\n",
            "                '\"img_src\": \"/vi/-1IW-Mw6vmQ/mqdefault.jpg\", \"duration\": '\n",
            "                '\"11:55:00\", \"description\": \"Watch a view of the White House '\n",
            "                'as snow falls in D.C.\", \"audio_mode\": '\n",
            "                '\"https://www.youtube.com/watch?v=-1IW-Mw6vmQ&listen=1\", '\n",
            "                '\"views\": \"765 views\", \"time\": \"Shared 5 days ago\"}, \"36\": '\n",
            "                '{\"video_src\": \"https://www.youtube.com/watch?v=NYDEyeyiwAg\", '\n",
            "                '\"img_src\": \"/vi/NYDEyeyiwAg/mqdefault.jpg\", \"duration\": '\n",
            "                '\"1:12\", \"description\": \"Snow in D.C.\\\\u00e2\\\\u0080\\\\u0099s '\n",
            "                'Rock Creek Park\", \"audio_mode\": '\n",
            "                '\"https://www.youtube.com/watch?v=NYDEyeyiwAg&listen=1\", '\n",
            "                '\"views\": \"765 views\", \"time\": \"Shared 5 days ago\"}, \"37\": '\n",
            "                '{\"video_src\": \"https://www.youtube.com/watch?v=TxO6xlYlT1c\", '\n",
            "                '\"img_src\": \"/vi/TxO6xlYlT1c/mqdefault.jpg\", \"duration\": '\n",
            "                '\"2:50\", \"description\": \"SNL Recap | John Krasinski hosts the '\n",
            "                'first SNL of the Biden era (S46 E10)\", \"audio_mode\": '\n",
            "                '\"https://www.youtube.com/watch?v=TxO6xlYlT1c&listen=1\", '\n",
            "                '\"views\": \"765 views\", \"time\": \"Shared 5 days ago\"}, \"38\": '\n",
            "                '{\"video_src\": \"https://www.youtube.com/watch?v=AomNXMl5fXw\", '\n",
            "                '\"img_src\": \"/vi/AomNXMl5fXw/mqdefault.jpg\", \"duration\": '\n",
            "                '\"2:42\", \"description\": \"As Trump\\'s impeachment trial nears, '\n",
            "                'Republicans mull questions on party\\'s future\", \"audio_mode\": '\n",
            "                '\"https://www.youtube.com/watch?v=AomNXMl5fXw&listen=1\", '\n",
            "                '\"views\": \"765 views\", \"time\": \"Shared 5 days ago\"}, \"39\": '\n",
            "                '{\"video_src\": \"https://www.youtube.com/watch?v=RpgjZKPYV-8\", '\n",
            "                '\"img_src\": \"/vi/RpgjZKPYV-8/mqdefault.jpg\", \"duration\": '\n",
            "                '\"3:59\", \"description\": \"Biden\\\\u00e2\\\\u0080\\\\u0099s racial '\n",
            "                'equity plan is ambitious, but is it enough?\", \"audio_mode\": '\n",
            "                '\"https://www.youtube.com/watch?v=RpgjZKPYV-8&listen=1\", '\n",
            "                '\"views\": \"765 views\", \"time\": \"Shared 6 days ago\"}, \"40\": '\n",
            "                '{\"video_src\": \"https://www.youtube.com/watch?v=Q8jR-q25ZtM\", '\n",
            "                '\"img_src\": \"/vi/Q8jR-q25ZtM/mqdefault.jpg\", \"duration\": '\n",
            "                '\"1:35\", \"description\": \"What D.C. can expect for the '\n",
            "                'weekend\\'s snow\", \"audio_mode\": '\n",
            "                '\"https://www.youtube.com/watch?v=Q8jR-q25ZtM&listen=1\", '\n",
            "                '\"views\": \"765 views\", \"time\": \"Shared 6 days ago\"}, \"41\": '\n",
            "                '{\"video_src\": \"https://www.youtube.com/watch?v=HbxSfWewcXE\", '\n",
            "                '\"img_src\": \"/vi/HbxSfWewcXE/mqdefault.jpg\", \"duration\": '\n",
            "                '\"4:04\", \"description\": \"Pandemic fatigue: How to cope as '\n",
            "                'coronavirus precautions drag on\", \"audio_mode\": '\n",
            "                '\"https://www.youtube.com/watch?v=HbxSfWewcXE&listen=1\", '\n",
            "                '\"views\": \"765 views\", \"time\": \"Shared 1 week ago\"}, \"42\": '\n",
            "                '{\"video_src\": \"https://www.youtube.com/watch?v=CMt4nDNG5LY\", '\n",
            "                '\"img_src\": \"/vi/CMt4nDNG5LY/mqdefault.jpg\", \"duration\": '\n",
            "                '\"1:14\", \"description\": \"Biden tours coronavirus vaccine '\n",
            "                'distribution at Walter Reed\", \"audio_mode\": '\n",
            "                '\"https://www.youtube.com/watch?v=CMt4nDNG5LY&listen=1\", '\n",
            "                '\"views\": \"765 views\", \"time\": \"Shared 1 week ago\"}, \"43\": '\n",
            "                '{\"video_src\": \"https://www.youtube.com/watch?v=3D9BmokeWvA\", '\n",
            "                '\"img_src\": \"/vi/3D9BmokeWvA/mqdefault.jpg\", \"duration\": '\n",
            "                '\"0:15\", \"description\": \"Biden: Coronavirus relief bill should '\n",
            "                'pass, with or without GOP support\", \"audio_mode\": '\n",
            "                '\"https://www.youtube.com/watch?v=3D9BmokeWvA&listen=1\", '\n",
            "                '\"views\": \"765 views\", \"time\": \"Shared 1 week ago\"}, \"44\": '\n",
            "                '{\"video_src\": \"https://www.youtube.com/watch?v=JbXsCVmoNPE\", '\n",
            "                '\"img_src\": \"/vi/JbXsCVmoNPE/mqdefault.jpg\", \"duration\": '\n",
            "                '\"56:15\", \"description\": \"WATCH: Fauci and the White House '\n",
            "                'covid-19 response team hold news conference\", \"audio_mode\": '\n",
            "                '\"https://www.youtube.com/watch?v=JbXsCVmoNPE&listen=1\", '\n",
            "                '\"views\": \"765 views\", \"time\": \"Shared 1 week ago\"}, \"45\": '\n",
            "                '{\"video_src\": \"https://www.youtube.com/watch?v=j7q7ZBRfSos\", '\n",
            "                '\"img_src\": \"/vi/j7q7ZBRfSos/mqdefault.jpg\", \"duration\": '\n",
            "                '\"1:03:40\", \"description\": \"WATCH: White House press secretary '\n",
            "                'Psaki holds news conference\", \"audio_mode\": '\n",
            "                '\"https://www.youtube.com/watch?v=j7q7ZBRfSos&listen=1\", '\n",
            "                '\"views\": \"765 views\", \"time\": \"Shared 1 week ago\"}, \"46\": '\n",
            "                '{\"video_src\": \"https://www.youtube.com/watch?v=BAP-9K96D4U\", '\n",
            "                '\"img_src\": \"/vi/BAP-9K96D4U/mqdefault.jpg\", \"duration\": '\n",
            "                '\"3:34\", \"description\": \"How Apple\\\\u00e2\\\\u0080\\\\u0099s new '\n",
            "                \"app privacy \\\\u00e2\\\\u0080\\\\u0098nutrition labels' might be \"\n",
            "                'misleading you\", \"audio_mode\": '\n",
            "                '\"https://www.youtube.com/watch?v=BAP-9K96D4U&listen=1\", '\n",
            "                '\"views\": \"765 views\", \"time\": \"Shared 1 week ago\"}, \"47\": '\n",
            "                '{\"video_src\": \"https://www.youtube.com/watch?v=NE9n5NQTVFk\", '\n",
            "                '\"img_src\": \"/vi/NE9n5NQTVFk/mqdefault.jpg\", \"duration\": '\n",
            "                '\"3:18\", \"description\": \"Marjorie Taylor Greene: Why members '\n",
            "                'of Congress want to expel her\", \"audio_mode\": '\n",
            "                '\"https://www.youtube.com/watch?v=NE9n5NQTVFk&listen=1\", '\n",
            "                '\"views\": \"765 views\", \"time\": \"Shared 1 week ago\"}, \"48\": '\n",
            "                '{\"video_src\": \"https://www.youtube.com/watch?v=4y6WL3pmSxk\", '\n",
            "                '\"img_src\": \"/vi/4y6WL3pmSxk/mqdefault.jpg\", \"duration\": '\n",
            "                '\"1:17\", \"description\": \"Republicans warned about '\n",
            "                'Trump\\\\u00e2\\\\u0080\\\\u0099s rhetoric in 2016\", \"audio_mode\": '\n",
            "                '\"https://www.youtube.com/watch?v=4y6WL3pmSxk&listen=1\", '\n",
            "                '\"views\": \"765 views\", \"time\": \"Shared 1 week ago\"}, \"49\": '\n",
            "                '{\"video_src\": \"https://www.youtube.com/watch?v=K0gwg0XutVY\", '\n",
            "                '\"img_src\": \"/vi/K0gwg0XutVY/mqdefault.jpg\", \"duration\": '\n",
            "                '\"1:14\", \"description\": \"How to properly wear a double mask\", '\n",
            "                '\"audio_mode\": '\n",
            "                '\"https://www.youtube.com/watch?v=K0gwg0XutVY&listen=1\", '\n",
            "                '\"views\": \"765 views\", \"time\": \"Shared 1 week ago\"}, \"50\": '\n",
            "                '{\"video_src\": \"https://www.youtube.com/watch?v=fBvqj8i-bZU\", '\n",
            "                '\"img_src\": \"/vi/fBvqj8i-bZU/mqdefault.jpg\", \"duration\": '\n",
            "                '\"45:50\", \"description\": \"White House press secretary Psaki '\n",
            "                'holds news conference - 1/28 (FULL LIVE STREAM)\", '\n",
            "                '\"audio_mode\": '\n",
            "                '\"https://www.youtube.com/watch?v=fBvqj8i-bZU&listen=1\", '\n",
            "                '\"views\": \"765 views\", \"time\": \"Shared 1 week ago\"}, \"51\": '\n",
            "                '{\"video_src\": \"https://www.youtube.com/watch?v=K24lxtNMdZ8\", '\n",
            "                '\"img_src\": \"/vi/K24lxtNMdZ8/mqdefault.jpg\", \"duration\": '\n",
            "                '\"3:29\", \"description\": \"After Capitol mob and Kamala '\n",
            "                'Harris\\\\u00e2\\\\u0080\\\\u0099s inauguration, women of color in '\n",
            "                'Congress want to fight racism\", \"audio_mode\": '\n",
            "                '\"https://www.youtube.com/watch?v=K24lxtNMdZ8&listen=1\", '\n",
            "                '\"views\": \"765 views\", \"time\": \"Shared 1 week ago\"}, \"52\": '\n",
            "                '{\"video_src\": \"https://www.youtube.com/watch?v=Cl2LubksoAs\", '\n",
            "                '\"img_src\": \"/vi/Cl2LubksoAs/mqdefault.jpg\", \"duration\": '\n",
            "                '\"2:18\", \"description\": \"Biden signs executive orders on '\n",
            "                'health care to \\'undo the damage Trump has done\\'\", '\n",
            "                '\"audio_mode\": '\n",
            "                '\"https://www.youtube.com/watch?v=Cl2LubksoAs&listen=1\", '\n",
            "                '\"views\": \"765 views\", \"time\": \"Shared 1 week ago\"}, \"53\": '\n",
            "                '{\"video_src\": \"https://www.youtube.com/watch?v=D05U_Ho6fOk\", '\n",
            "                '\"img_src\": \"/vi/D05U_Ho6fOk/mqdefault.jpg\", \"duration\": '\n",
            "                '\"3:06\", \"description\": \"Biden signs executive orders on '\n",
            "                'health care - 1/28 (FULL LIVE STREAM)\", \"audio_mode\": '\n",
            "                '\"https://www.youtube.com/watch?v=D05U_Ho6fOk&listen=1\", '\n",
            "                '\"views\": \"765 views\", \"time\": \"Shared 1 week ago\"}, \"54\": '\n",
            "                '{\"video_src\": \"https://www.youtube.com/watch?v=_-w6vkpBXcM\", '\n",
            "                '\"img_src\": \"/vi/_-w6vkpBXcM/mqdefault.jpg\", \"duration\": '\n",
            "                '\"2:00\", \"description\": \"Why is President Biden signing so '\n",
            "                'many executive orders?\", \"audio_mode\": '\n",
            "                '\"https://www.youtube.com/watch?v=_-w6vkpBXcM&listen=1\", '\n",
            "                '\"views\": \"765 views\", \"time\": \"Shared 1 week ago\"}, \"55\": '\n",
            "                '{\"video_src\": \"https://www.youtube.com/watch?v=2OEvY3bqshg\", '\n",
            "                '\"img_src\": \"/vi/2OEvY3bqshg/mqdefault.jpg\", \"duration\": '\n",
            "                '\"2:11:17\", \"description\": \"Biden nominees Marcia Fudge, '\n",
            "                'Cecilia Rouse testify before Senate committee - 1/28 (FULL '\n",
            "                'LIVE STREAM)\", \"audio_mode\": '\n",
            "                '\"https://www.youtube.com/watch?v=2OEvY3bqshg&listen=1\", '\n",
            "                '\"views\": \"765 views\", \"time\": \"Shared 1 week ago\"}, \"56\": '\n",
            "                '{\"video_src\": \"https://www.youtube.com/watch?v=ZerU2r2Ca0M\", '\n",
            "                '\"img_src\": \"/vi/ZerU2r2Ca0M/mqdefault.jpg\", \"duration\": '\n",
            "                '\"17:26\", \"description\": \"Nancy Pelosi holds weekly news '\n",
            "                'conference - 1/28 (FULL LIVE STREAM)\", \"audio_mode\": '\n",
            "                '\"https://www.youtube.com/watch?v=ZerU2r2Ca0M&listen=1\", '\n",
            "                '\"views\": \"765 views\", \"time\": \"Shared 1 week ago\"}, \"57\": '\n",
            "                '{\"video_src\": \"https://www.youtube.com/watch?v=c7YyqZj-cJM\", '\n",
            "                '\"img_src\": \"/vi/c7YyqZj-cJM/mqdefault.jpg\", \"duration\": '\n",
            "                '\"3:18\", \"description\": \"Was the attack on the U.S. Capitol an '\n",
            "                'attempted coup?\", \"audio_mode\": '\n",
            "                '\"https://www.youtube.com/watch?v=c7YyqZj-cJM&listen=1\", '\n",
            "                '\"views\": \"765 views\", \"time\": \"Shared 1 week ago\"}, \"58\": '\n",
            "                '{\"video_src\": \"https://www.youtube.com/watch?v=5JAQuUElf7E\", '\n",
            "                '\"img_src\": \"/vi/5JAQuUElf7E/mqdefault.jpg\", \"duration\": '\n",
            "                '\"2:28:55\", \"description\": \"WATCH: Senate hearing to consider '\n",
            "                'Denis McDonough as Secretary of Veterans Affairs\", '\n",
            "                '\"audio_mode\": '\n",
            "                '\"https://www.youtube.com/watch?v=5JAQuUElf7E&listen=1\", '\n",
            "                '\"views\": \"765 views\", \"time\": \"Shared 1 week ago\"}, \"59\": '\n",
            "                '{\"video_src\": \"https://www.youtube.com/watch?v=AhpWogjgcKE\", '\n",
            "                '\"img_src\": \"/vi/AhpWogjgcKE/mqdefault.jpg\", \"duration\": '\n",
            "                '\"38:45\", \"description\": \"Secretary of State Blinken holds '\n",
            "                'news briefing\", \"audio_mode\": '\n",
            "                '\"https://www.youtube.com/watch?v=AhpWogjgcKE&listen=1\", '\n",
            "                '\"views\": \"765 views\", \"time\": \"Shared 1 week ago\"}}',\n",
            " 'rss_feed': '/feed/channel/UCHd62-u_v4DvJ8TCFtpi4GA',\n",
            " 'suscriber_count': 'Subscribe | 1.6M'}\n"
          ],
          "name": "stdout"
        }
      ]
    },
    {
      "cell_type": "code",
      "metadata": {
        "id": "aXmf1yZf4Pxm"
      },
      "source": [
        ""
      ],
      "execution_count": null,
      "outputs": []
    },
    {
      "cell_type": "code",
      "metadata": {
        "id": "aCZFul1J5OV1",
        "colab": {
          "base_uri": "https://localhost:8080/",
          "height": 35
        },
        "outputId": "249bfafb-9017-4489-fa7a-eb92ea7ff106"
      },
      "source": [
        "get_user_id(\"https://www.youtube.com/user/WashingtonPost\")"
      ],
      "execution_count": null,
      "outputs": [
        {
          "output_type": "execute_result",
          "data": {
            "application/vnd.google.colaboratory.intrinsic+json": {
              "type": "string"
            },
            "text/plain": [
              "'UCHd62-u_v4DvJ8TCFtpi4GA'"
            ]
          },
          "metadata": {
            "tags": []
          },
          "execution_count": 42
        }
      ]
    },
    {
      "cell_type": "code",
      "metadata": {
        "id": "DI6rrP_qnIbx"
      },
      "source": [
        ""
      ],
      "execution_count": null,
      "outputs": []
    }
  ]
}