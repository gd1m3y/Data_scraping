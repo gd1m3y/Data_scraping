{
  "nbformat": 4,
  "nbformat_minor": 0,
  "metadata": {
    "colab": {
      "name": "locations+bounding_box.ipynb",
      "provenance": [],
      "authorship_tag": "ABX9TyMt11O312mtrTZoY95H5ryK",
      "include_colab_link": true
    },
    "kernelspec": {
      "name": "python3",
      "display_name": "Python 3"
    }
  },
  "cells": [
    {
      "cell_type": "markdown",
      "metadata": {
        "id": "view-in-github",
        "colab_type": "text"
      },
      "source": [
        "<a href=\"https://colab.research.google.com/github/gd1m3y/Data_scraping/blob/main/locations%2Bbounding_box.ipynb\" target=\"_parent\"><img src=\"https://colab.research.google.com/assets/colab-badge.svg\" alt=\"Open In Colab\"/></a>"
      ]
    },
    {
      "cell_type": "code",
      "metadata": {
        "id": "5EtJDWybePLd"
      },
      "source": [
        "import pandas as pd\r\n",
        "import matplotlib.pyplot as plt \r\n",
        "import nltk \r\n",
        "from collections import defaultdict\r\n",
        "import requests\r\n",
        "from bs4 import BeautifulSoup\r\n",
        "import re\r\n",
        "from pprint import pprint\r\n",
        "from collections import defaultdict\r\n",
        "import json\r\n",
        "import spacy"
      ],
      "execution_count": null,
      "outputs": []
    },
    {
      "cell_type": "code",
      "metadata": {
        "id": "TqhH2hu5eYni"
      },
      "source": [
        "import geopy\r\n",
        "from geopy.extra.rate_limiter import RateLimiter\r\n",
        "from geopy.geocoders import Nominatim"
      ],
      "execution_count": null,
      "outputs": []
    },
    {
      "cell_type": "code",
      "metadata": {
        "id": "autW8KuSeaXY"
      },
      "source": [
        "data = pd.read_csv('/content/mukrack_profiles_wsj.csv')"
      ],
      "execution_count": null,
      "outputs": []
    },
    {
      "cell_type": "code",
      "metadata": {
        "id": "j2lWOntjeht2"
      },
      "source": [
        "from pprint import pprint\r\n",
        "def getlatlong(location):\r\n",
        "  use = None\r\n",
        "  geolocator = Nominatim(user_agent=\"test\")\r\n",
        "  try:\r\n",
        "    if \"/\" in location:\r\n",
        "      d = location.split('/')[0]\r\n",
        "      e = geolocator.geocode(d).raw\r\n",
        "      return json.dumps(e)\r\n",
        "    if \",\" in location:\r\n",
        "      d = location.split(\",\")[0]\r\n",
        "      return json.dumps(geolocator.geocode(d).raw)\r\n",
        "      \r\n",
        "\r\n",
        "    x = geolocator.geocode(location).raw\r\n",
        "    # print('orignal',i)\r\n",
        "    # pprint(geolocator.geocode(i).raw)\r\n",
        "    return json.dumps(x)\r\n",
        "  except:\r\n",
        "    d=\"\"\r\n",
        "    for j in location:\r\n",
        "    \r\n",
        "        if j.isalnum() or j ==\" \":\r\n",
        "            \r\n",
        "          d+=j\r\n",
        "        else:\r\n",
        "          d+=\" \"\r\n",
        "    if \"/\" in location:\r\n",
        "      d = location.split('/')[0]\r\n",
        "    if \",\" in location:\r\n",
        "      d = location.split(\",\")[0]\r\n",
        "    for z in nlp(d).ents:\r\n",
        "      if z.label_ == 'GPE':\r\n",
        "        # print(geolocator.geocode(z),\"@@@@@@@@@@@@\",z)\r\n",
        "        # print(re.sub(\"/[^a-zA-Z0-9 ]/g\", \"\",str(z.ents)))\r\n",
        "        \r\n",
        "        use = geolocator.geocode(z).raw if geolocator.geocode(z) else None\r\n",
        "      return json.dumps(use) if use else None"
      ],
      "execution_count": null,
      "outputs": []
    },
    {
      "cell_type": "code",
      "metadata": {
        "id": "BHwpI-PGfld4"
      },
      "source": [
        "nlp = spacy.load(\"en_core_web_sm\")"
      ],
      "execution_count": null,
      "outputs": []
    },
    {
      "cell_type": "code",
      "metadata": {
        "id": "8uvO9-Isfaud"
      },
      "source": [
        "new_data  = data.dropna(axis=0)"
      ],
      "execution_count": null,
      "outputs": []
    },
    {
      "cell_type": "code",
      "metadata": {
        "id": "9p9MXoyifg1a",
        "colab": {
          "base_uri": "https://localhost:8080/"
        },
        "outputId": "13921c9e-ef8f-42e1-f0b7-3af8eebd1cb3"
      },
      "source": [
        "new_data.clean_location.unique()"
      ],
      "execution_count": null,
      "outputs": [
        {
          "output_type": "execute_result",
          "data": {
            "text/plain": [
              "array(['New York, Philadelphia', ' ', 'Miami', 'New York',\n",
              "       'Washington, D.C.', 'Mexico City', 'Dubai, New York', 'Washington',\n",
              "       'Los Angeles, New York', 'Pittsburgh', 'Shanghai Shi',\n",
              "       'Washington, Washington, D.C.', 'Brittany, Portland', 'London',\n",
              "       'Kampala', 'Chicago', 'Bangkok', 'Raleigh', 'Southern Asia',\n",
              "       'Berlin', 'Los Angeles', 'Paris', 'Hawaii, New York',\n",
              "       'San Francisco', 'Baltimore', 'Buffalo, Los Angeles', 'Boston',\n",
              "       'Salt Lake City', 'Boston, Denver', 'Beijing, Philadelphia',\n",
              "       'Beijing', 'Taiwan', 'Here, Thēre', 'New Jersey',\n",
              "       'New York, Princeton', 'New York, Washington', 'United States',\n",
              "       'Taipei', 'Hong Kong', 'Tokyo', 'Palo Alto', 'Wisconsin',\n",
              "       'California, New York', 'Sydney', 'Austin',\n",
              "       'Berlin, Munich, New York', 'Hong Kong, Washington',\n",
              "       'Washington, D.C., United States', 'Oakland',\n",
              "       'Central Singapore Community Development Council', 'Japan',\n",
              "       'Detroit', 'Dubai', 'Kura, Seoul, Singapore',\n",
              "       'Chicago, New York, Pennsylvania', 'Riyadh', 'Moscow',\n",
              "       'California', 'New York, Phoenix', 'Frankfurt am Main, Lisbon',\n",
              "       'Atlanta, New York', 'Milan', 'Malawi, New York',\n",
              "       'Shanghai, Singapore', 'Philadelphia', 'Cairo, London',\n",
              "       'Singapore', 'Seoul', 'Houston', 'England', 'Tōkyō', 'Toronto',\n",
              "       'Atlanta', 'Huntington', 'Como, New York', 'Shanghai', 'Manhattan',\n",
              "       'Jakarta', 'Michigan, Novi', 'Johannesburg', 'Barcelona',\n",
              "       'Bangkok, Hong Kong', 'Mexico', 'Grosse Pointe Park',\n",
              "       'New Jersey, New York', 'New Delhi', 'Haarlem',\n",
              "       'Fort Myers, Washington', 'Frankfurt am Main', 'Indonesia',\n",
              "       'Islamabad', 'New York, United States', 'United Arab Emirates',\n",
              "       'Maplewood', 'Ottawa', 'Albany', 'Rome', 'Akron, New York',\n",
              "       'China', 'Beijing, Shanghai', 'Delhi', 'New York, San Francisco'],\n",
              "      dtype=object)"
            ]
          },
          "metadata": {
            "tags": []
          },
          "execution_count": 30
        }
      ]
    },
    {
      "cell_type": "code",
      "metadata": {
        "id": "BTPC0Yl6VY7y"
      },
      "source": [
        "geolocator = Nominatim(user_agent=\"test\")\r\n",
        "use = geolocator.geocode(new_data.clean_location.iloc[0]).raw"
      ],
      "execution_count": null,
      "outputs": []
    },
    {
      "cell_type": "code",
      "metadata": {
        "colab": {
          "base_uri": "https://localhost:8080/"
        },
        "id": "g5qjnof7WQgs",
        "outputId": "73930def-1baf-40fb-b7e3-2a56a07bef3c"
      },
      "source": [
        "lats =[]\r\n",
        "longs = []\r\n",
        "raws = []\r\n",
        "for i in range(len(new_data.clean_location)):\r\n",
        "  val = getlatlong(new_data.clean_location.iloc[i])\r\n",
        "  var = json.loads(val) if val else None \r\n",
        "  if var != None:\r\n",
        "    lats.append(var['lat'])\r\n",
        "    longs.append(var['lon'])\r\n",
        "    raws.append( json.dumps(var) )\r\n",
        "  else:\r\n",
        "    lats.append(None)\r\n",
        "    longs.append(None)\r\n",
        "    raws.append(None)\r\n",
        "new_data['latitude'] = lats\r\n",
        "new_data['longitude'] = longs\r\n",
        "new_data['raw_location'] = raws\r\n"
      ],
      "execution_count": null,
      "outputs": [
        {
          "output_type": "stream",
          "text": [
            "/usr/local/lib/python3.6/dist-packages/ipykernel_launcher.py:15: SettingWithCopyWarning: \n",
            "A value is trying to be set on a copy of a slice from a DataFrame.\n",
            "Try using .loc[row_indexer,col_indexer] = value instead\n",
            "\n",
            "See the caveats in the documentation: https://pandas.pydata.org/pandas-docs/stable/user_guide/indexing.html#returning-a-view-versus-a-copy\n",
            "  from ipykernel import kernelapp as app\n",
            "/usr/local/lib/python3.6/dist-packages/ipykernel_launcher.py:16: SettingWithCopyWarning: \n",
            "A value is trying to be set on a copy of a slice from a DataFrame.\n",
            "Try using .loc[row_indexer,col_indexer] = value instead\n",
            "\n",
            "See the caveats in the documentation: https://pandas.pydata.org/pandas-docs/stable/user_guide/indexing.html#returning-a-view-versus-a-copy\n",
            "  app.launch_new_instance()\n",
            "/usr/local/lib/python3.6/dist-packages/ipykernel_launcher.py:17: SettingWithCopyWarning: \n",
            "A value is trying to be set on a copy of a slice from a DataFrame.\n",
            "Try using .loc[row_indexer,col_indexer] = value instead\n",
            "\n",
            "See the caveats in the documentation: https://pandas.pydata.org/pandas-docs/stable/user_guide/indexing.html#returning-a-view-versus-a-copy\n"
          ],
          "name": "stderr"
        }
      ]
    },
    {
      "cell_type": "code",
      "metadata": {
        "colab": {
          "base_uri": "https://localhost:8080/",
          "height": 568
        },
        "id": "S1EMTJb-eOWF",
        "outputId": "1c76af76-5f2f-4d85-9024-8ac65a66c548"
      },
      "source": [
        "new_data.head()"
      ],
      "execution_count": null,
      "outputs": [
        {
          "output_type": "execute_result",
          "data": {
            "text/html": [
              "<div>\n",
              "<style scoped>\n",
              "    .dataframe tbody tr th:only-of-type {\n",
              "        vertical-align: middle;\n",
              "    }\n",
              "\n",
              "    .dataframe tbody tr th {\n",
              "        vertical-align: top;\n",
              "    }\n",
              "\n",
              "    .dataframe thead th {\n",
              "        text-align: right;\n",
              "    }\n",
              "</style>\n",
              "<table border=\"1\" class=\"dataframe\">\n",
              "  <thead>\n",
              "    <tr style=\"text-align: right;\">\n",
              "      <th></th>\n",
              "      <th>Unnamed: 0</th>\n",
              "      <th>author_name</th>\n",
              "      <th>job_title</th>\n",
              "      <th>location</th>\n",
              "      <th>clean_location</th>\n",
              "      <th>verified</th>\n",
              "      <th>beats</th>\n",
              "      <th>outlets</th>\n",
              "      <th>about</th>\n",
              "      <th>author_link</th>\n",
              "      <th>profile_picture_link</th>\n",
              "      <th>other_social</th>\n",
              "      <th>facebook</th>\n",
              "      <th>linkedin</th>\n",
              "      <th>twitter</th>\n",
              "      <th>latitude</th>\n",
              "      <th>longitude</th>\n",
              "      <th>raw_location</th>\n",
              "    </tr>\n",
              "  </thead>\n",
              "  <tbody>\n",
              "    <tr>\n",
              "      <th>1</th>\n",
              "      <td>1</td>\n",
              "      <td>Stephanie Aaronson</td>\n",
              "      <td>Photo Editor — The Wall Street Journal</td>\n",
              "      <td>\\n                                        New ...</td>\n",
              "      <td>New York, Philadelphia</td>\n",
              "      <td>Verified</td>\n",
              "      <td>Arts and Entertainment,Media,Metro Philadelphia</td>\n",
              "      <td>{\"The Wall Street Journal\": \"https://muckrack....</td>\n",
              "      <td>Lead photo editor, biz + tech, @wsj. Formerly ...</td>\n",
              "      <td>https://muckrack.com/stephanie-aaronson</td>\n",
              "      <td>https://s3.amazonaws.com/media.muckrack.com/pr...</td>\n",
              "      <td>['http://stephanieaaronson.com/', 'http://step...</td>\n",
              "      <td>https://www.facebook.com/steph.aaronson</td>\n",
              "      <td>https://www.linkedin.com/in/stephanieaaronson</td>\n",
              "      <td>http://twitter.com/stephaaronson</td>\n",
              "      <td>40.7127281</td>\n",
              "      <td>-74.0060152</td>\n",
              "      <td>{\"place_id\": 258355858, \"licence\": \"Data \\u00a...</td>\n",
              "    </tr>\n",
              "    <tr>\n",
              "      <th>6</th>\n",
              "      <td>6</td>\n",
              "      <td>Andrew Ackerman</td>\n",
              "      <td>Reporter — The Wall Street Journal</td>\n",
              "      <td></td>\n",
              "      <td></td>\n",
              "      <td>Verified</td>\n",
              "      <td>Business and Finance,Metro D.C.</td>\n",
              "      <td>{\"The Wall Street Journal\": \"https://muckrack....</td>\n",
              "      <td>housing/banking for @wsj. andrew.ackerman@wsj....</td>\n",
              "      <td>https://muckrack.com/amacker</td>\n",
              "      <td>https://s3.amazonaws.com/media.muckrack.com/pr...</td>\n",
              "      <td>['http://online.wsj.com/', 'https://youtube.co...</td>\n",
              "      <td>https://www.facebook.com/andrew.ackerman</td>\n",
              "      <td>http://www.linkedin.com/pub/andrew-ackerman/4/...</td>\n",
              "      <td>http://twitter.com/amacker</td>\n",
              "      <td>None</td>\n",
              "      <td>None</td>\n",
              "      <td>None</td>\n",
              "    </tr>\n",
              "    <tr>\n",
              "      <th>7</th>\n",
              "      <td>7</td>\n",
              "      <td>Deborah Acosta</td>\n",
              "      <td>Reporter — The Wall Street Journal</td>\n",
              "      <td>\\n                                        Miam...</td>\n",
              "      <td>Miami</td>\n",
              "      <td>Verified</td>\n",
              "      <td>U.S.</td>\n",
              "      <td>{\"The Wall Street Journal\": \"https://muckrack....</td>\n",
              "      <td>Reporter at @WSJ; previously at @MiamiHerald a...</td>\n",
              "      <td>https://muckrack.com/deborahacosta</td>\n",
              "      <td>https://s3.amazonaws.com/media.muckrack.com/pr...</td>\n",
              "      <td>['https://t.co/QBynYg1sPv', 'https://www.insta...</td>\n",
              "      <td>https://www.facebook.com/DeborahAcosta</td>\n",
              "      <td>https://www.linkedin.com/in/deborahacosta</td>\n",
              "      <td>http://twitter.com/DeborahAcosta</td>\n",
              "      <td>25.7741728</td>\n",
              "      <td>-80.19362</td>\n",
              "      <td>{\"place_id\": 258523095, \"licence\": \"Data \\u00a...</td>\n",
              "    </tr>\n",
              "    <tr>\n",
              "      <th>9</th>\n",
              "      <td>9</td>\n",
              "      <td>Russell Adams</td>\n",
              "      <td>Deputy Corporate Bureau Chief — The Wall Stree...</td>\n",
              "      <td>\\n                                        New ...</td>\n",
              "      <td>New York</td>\n",
              "      <td>Verified</td>\n",
              "      <td>Business and Finance,Media</td>\n",
              "      <td>{\"The Wall Street Journal\": \"https://muckrack....</td>\n",
              "      <td>Deputy corporate bureau chief at WSJ, dad and ...</td>\n",
              "      <td>https://muckrack.com/radamswsj</td>\n",
              "      <td>https://s3.amazonaws.com/media.muckrack.com/pr...</td>\n",
              "      <td>['https://www.wsj.com/articles/SB1000142405274...</td>\n",
              "      <td>http://www.facebook.com/russell.adams.146</td>\n",
              "      <td>https://www.linkedin.com/pub/russell-adams/5/2...</td>\n",
              "      <td>http://twitter.com/radamsWSJ</td>\n",
              "      <td>40.7127281</td>\n",
              "      <td>-74.0060152</td>\n",
              "      <td>{\"place_id\": 258355858, \"licence\": \"Data \\u00a...</td>\n",
              "    </tr>\n",
              "    <tr>\n",
              "      <th>10</th>\n",
              "      <td>10</td>\n",
              "      <td>Janet Adamy</td>\n",
              "      <td>Special Projects Editor — The Wall Street Journal</td>\n",
              "      <td>\\n                                        Wash...</td>\n",
              "      <td>Washington, D.C.</td>\n",
              "      <td>Verified</td>\n",
              "      <td>Business and Finance,Health,Metro D.C.,Politic...</td>\n",
              "      <td>{\"The Wall Street Journal\": \"https://muckrack....</td>\n",
              "      <td>Special projects editor at the Wall Street Jou...</td>\n",
              "      <td>https://muckrack.com/janet-adamy</td>\n",
              "      <td>https://s3.amazonaws.com/media.muckrack.com/pr...</td>\n",
              "      <td>['https://www.wsj.com/articles/big-cities-succ...</td>\n",
              "      <td>https://www.facebook.com/janet.adamy</td>\n",
              "      <td>https://www.linkedin.com/in/janet-adamy-89a9997</td>\n",
              "      <td>http://twitter.com/janetadamy</td>\n",
              "      <td>38.8949924</td>\n",
              "      <td>-77.0365581</td>\n",
              "      <td>{\"place_id\": 259037983, \"licence\": \"Data \\u00a...</td>\n",
              "    </tr>\n",
              "  </tbody>\n",
              "</table>\n",
              "</div>"
            ],
            "text/plain": [
              "    Unnamed: 0  ...                                       raw_location\n",
              "1            1  ...  {\"place_id\": 258355858, \"licence\": \"Data \\u00a...\n",
              "6            6  ...                                               None\n",
              "7            7  ...  {\"place_id\": 258523095, \"licence\": \"Data \\u00a...\n",
              "9            9  ...  {\"place_id\": 258355858, \"licence\": \"Data \\u00a...\n",
              "10          10  ...  {\"place_id\": 259037983, \"licence\": \"Data \\u00a...\n",
              "\n",
              "[5 rows x 18 columns]"
            ]
          },
          "metadata": {
            "tags": []
          },
          "execution_count": 33
        }
      ]
    },
    {
      "cell_type": "code",
      "metadata": {
        "id": "96dY4efPjXw6"
      },
      "source": [
        "new_data.to_csv('author_data_wsj_muckrack_locations.csv')"
      ],
      "execution_count": null,
      "outputs": []
    },
    {
      "cell_type": "code",
      "metadata": {
        "colab": {
          "base_uri": "https://localhost:8080/"
        },
        "id": "hH8tSweqfLxx",
        "outputId": "d38ef96b-1d9f-40f3-9367-90ea9c4864f9"
      },
      "source": [
        "geolocator.geocode(new_data.clean_location.iloc[4].split(\",\")[0])"
      ],
      "execution_count": null,
      "outputs": [
        {
          "output_type": "execute_result",
          "data": {
            "text/plain": [
              "Location(Washington, District of Columbia, United States, (38.8949924, -77.0365581, 0.0))"
            ]
          },
          "metadata": {
            "tags": []
          },
          "execution_count": 35
        }
      ]
    },
    {
      "cell_type": "code",
      "metadata": {
        "id": "wl7FxIFlfefz"
      },
      "source": [
        "# new_data['co-ordinates'] = new_data.profile_location.apply(getlatlong)"
      ],
      "execution_count": null,
      "outputs": []
    },
    {
      "cell_type": "code",
      "metadata": {
        "colab": {
          "base_uri": "https://localhost:8080/",
          "height": 568
        },
        "id": "55Ei9XBEfom9",
        "outputId": "64841fe9-0303-4170-9ecf-c93f1714802b"
      },
      "source": [
        "new_data.head()"
      ],
      "execution_count": null,
      "outputs": [
        {
          "output_type": "execute_result",
          "data": {
            "text/html": [
              "<div>\n",
              "<style scoped>\n",
              "    .dataframe tbody tr th:only-of-type {\n",
              "        vertical-align: middle;\n",
              "    }\n",
              "\n",
              "    .dataframe tbody tr th {\n",
              "        vertical-align: top;\n",
              "    }\n",
              "\n",
              "    .dataframe thead th {\n",
              "        text-align: right;\n",
              "    }\n",
              "</style>\n",
              "<table border=\"1\" class=\"dataframe\">\n",
              "  <thead>\n",
              "    <tr style=\"text-align: right;\">\n",
              "      <th></th>\n",
              "      <th>Unnamed: 0</th>\n",
              "      <th>author_name</th>\n",
              "      <th>job_title</th>\n",
              "      <th>location</th>\n",
              "      <th>clean_location</th>\n",
              "      <th>verified</th>\n",
              "      <th>beats</th>\n",
              "      <th>outlets</th>\n",
              "      <th>about</th>\n",
              "      <th>author_link</th>\n",
              "      <th>profile_picture_link</th>\n",
              "      <th>other_social</th>\n",
              "      <th>facebook</th>\n",
              "      <th>linkedin</th>\n",
              "      <th>twitter</th>\n",
              "      <th>latitude</th>\n",
              "      <th>longitude</th>\n",
              "      <th>raw_location</th>\n",
              "    </tr>\n",
              "  </thead>\n",
              "  <tbody>\n",
              "    <tr>\n",
              "      <th>1</th>\n",
              "      <td>1</td>\n",
              "      <td>Stephanie Aaronson</td>\n",
              "      <td>Photo Editor — The Wall Street Journal</td>\n",
              "      <td>\\n                                        New ...</td>\n",
              "      <td>New York, Philadelphia</td>\n",
              "      <td>Verified</td>\n",
              "      <td>Arts and Entertainment,Media,Metro Philadelphia</td>\n",
              "      <td>{\"The Wall Street Journal\": \"https://muckrack....</td>\n",
              "      <td>Lead photo editor, biz + tech, @wsj. Formerly ...</td>\n",
              "      <td>https://muckrack.com/stephanie-aaronson</td>\n",
              "      <td>https://s3.amazonaws.com/media.muckrack.com/pr...</td>\n",
              "      <td>['http://stephanieaaronson.com/', 'http://step...</td>\n",
              "      <td>https://www.facebook.com/steph.aaronson</td>\n",
              "      <td>https://www.linkedin.com/in/stephanieaaronson</td>\n",
              "      <td>http://twitter.com/stephaaronson</td>\n",
              "      <td>40.7127281</td>\n",
              "      <td>-74.0060152</td>\n",
              "      <td>{\"place_id\": 258355858, \"licence\": \"Data \\u00a...</td>\n",
              "    </tr>\n",
              "    <tr>\n",
              "      <th>6</th>\n",
              "      <td>6</td>\n",
              "      <td>Andrew Ackerman</td>\n",
              "      <td>Reporter — The Wall Street Journal</td>\n",
              "      <td></td>\n",
              "      <td></td>\n",
              "      <td>Verified</td>\n",
              "      <td>Business and Finance,Metro D.C.</td>\n",
              "      <td>{\"The Wall Street Journal\": \"https://muckrack....</td>\n",
              "      <td>housing/banking for @wsj. andrew.ackerman@wsj....</td>\n",
              "      <td>https://muckrack.com/amacker</td>\n",
              "      <td>https://s3.amazonaws.com/media.muckrack.com/pr...</td>\n",
              "      <td>['http://online.wsj.com/', 'https://youtube.co...</td>\n",
              "      <td>https://www.facebook.com/andrew.ackerman</td>\n",
              "      <td>http://www.linkedin.com/pub/andrew-ackerman/4/...</td>\n",
              "      <td>http://twitter.com/amacker</td>\n",
              "      <td>None</td>\n",
              "      <td>None</td>\n",
              "      <td>None</td>\n",
              "    </tr>\n",
              "    <tr>\n",
              "      <th>7</th>\n",
              "      <td>7</td>\n",
              "      <td>Deborah Acosta</td>\n",
              "      <td>Reporter — The Wall Street Journal</td>\n",
              "      <td>\\n                                        Miam...</td>\n",
              "      <td>Miami</td>\n",
              "      <td>Verified</td>\n",
              "      <td>U.S.</td>\n",
              "      <td>{\"The Wall Street Journal\": \"https://muckrack....</td>\n",
              "      <td>Reporter at @WSJ; previously at @MiamiHerald a...</td>\n",
              "      <td>https://muckrack.com/deborahacosta</td>\n",
              "      <td>https://s3.amazonaws.com/media.muckrack.com/pr...</td>\n",
              "      <td>['https://t.co/QBynYg1sPv', 'https://www.insta...</td>\n",
              "      <td>https://www.facebook.com/DeborahAcosta</td>\n",
              "      <td>https://www.linkedin.com/in/deborahacosta</td>\n",
              "      <td>http://twitter.com/DeborahAcosta</td>\n",
              "      <td>25.7741728</td>\n",
              "      <td>-80.19362</td>\n",
              "      <td>{\"place_id\": 258523095, \"licence\": \"Data \\u00a...</td>\n",
              "    </tr>\n",
              "    <tr>\n",
              "      <th>9</th>\n",
              "      <td>9</td>\n",
              "      <td>Russell Adams</td>\n",
              "      <td>Deputy Corporate Bureau Chief — The Wall Stree...</td>\n",
              "      <td>\\n                                        New ...</td>\n",
              "      <td>New York</td>\n",
              "      <td>Verified</td>\n",
              "      <td>Business and Finance,Media</td>\n",
              "      <td>{\"The Wall Street Journal\": \"https://muckrack....</td>\n",
              "      <td>Deputy corporate bureau chief at WSJ, dad and ...</td>\n",
              "      <td>https://muckrack.com/radamswsj</td>\n",
              "      <td>https://s3.amazonaws.com/media.muckrack.com/pr...</td>\n",
              "      <td>['https://www.wsj.com/articles/SB1000142405274...</td>\n",
              "      <td>http://www.facebook.com/russell.adams.146</td>\n",
              "      <td>https://www.linkedin.com/pub/russell-adams/5/2...</td>\n",
              "      <td>http://twitter.com/radamsWSJ</td>\n",
              "      <td>40.7127281</td>\n",
              "      <td>-74.0060152</td>\n",
              "      <td>{\"place_id\": 258355858, \"licence\": \"Data \\u00a...</td>\n",
              "    </tr>\n",
              "    <tr>\n",
              "      <th>10</th>\n",
              "      <td>10</td>\n",
              "      <td>Janet Adamy</td>\n",
              "      <td>Special Projects Editor — The Wall Street Journal</td>\n",
              "      <td>\\n                                        Wash...</td>\n",
              "      <td>Washington, D.C.</td>\n",
              "      <td>Verified</td>\n",
              "      <td>Business and Finance,Health,Metro D.C.,Politic...</td>\n",
              "      <td>{\"The Wall Street Journal\": \"https://muckrack....</td>\n",
              "      <td>Special projects editor at the Wall Street Jou...</td>\n",
              "      <td>https://muckrack.com/janet-adamy</td>\n",
              "      <td>https://s3.amazonaws.com/media.muckrack.com/pr...</td>\n",
              "      <td>['https://www.wsj.com/articles/big-cities-succ...</td>\n",
              "      <td>https://www.facebook.com/janet.adamy</td>\n",
              "      <td>https://www.linkedin.com/in/janet-adamy-89a9997</td>\n",
              "      <td>http://twitter.com/janetadamy</td>\n",
              "      <td>38.8949924</td>\n",
              "      <td>-77.0365581</td>\n",
              "      <td>{\"place_id\": 259037983, \"licence\": \"Data \\u00a...</td>\n",
              "    </tr>\n",
              "  </tbody>\n",
              "</table>\n",
              "</div>"
            ],
            "text/plain": [
              "    Unnamed: 0  ...                                       raw_location\n",
              "1            1  ...  {\"place_id\": 258355858, \"licence\": \"Data \\u00a...\n",
              "6            6  ...                                               None\n",
              "7            7  ...  {\"place_id\": 258523095, \"licence\": \"Data \\u00a...\n",
              "9            9  ...  {\"place_id\": 258355858, \"licence\": \"Data \\u00a...\n",
              "10          10  ...  {\"place_id\": 259037983, \"licence\": \"Data \\u00a...\n",
              "\n",
              "[5 rows x 18 columns]"
            ]
          },
          "metadata": {
            "tags": []
          },
          "execution_count": 37
        }
      ]
    },
    {
      "cell_type": "code",
      "metadata": {
        "id": "B89h4dMSvDOK"
      },
      "source": [
        ""
      ],
      "execution_count": null,
      "outputs": []
    },
    {
      "cell_type": "code",
      "metadata": {
        "colab": {
          "base_uri": "https://localhost:8080/"
        },
        "id": "rpJipLfngUAN",
        "outputId": "8289454c-ec33-4ec1-a866-59f934b06c08"
      },
      "source": [
        "from geopy import distance\r\n",
        "\r\n",
        "center_point = [{'lat': -7.7940023, 'lng': 110.3656535}]\r\n",
        "test_point = [{'lat': -7.79457, 'lng': 110.36563}]\r\n",
        "radius = 5 # in kilometer\r\n",
        "\r\n",
        "center_point_tuple = tuple(center_point[0].values()) # (-7.7940023, 110.3656535)\r\n",
        "test_point_tuple = tuple(test_point[0].values()) # (-7.79457, 110.36563)\r\n",
        "\r\n",
        "dis = distance.distance(center_point_tuple, test_point_tuple).km\r\n",
        "# print(\"Distance: {}\".format(dis)) # Distance: 0.0628380925748918\r\n",
        "\r\n",
        "if dis <= radius:\r\n",
        "    print(\"{} point is inside the {} km radius from {} coordinate\".format(test_point_tuple, radius, center_point_tuple))\r\n",
        "else:\r\n",
        "    print(\"{} point is outside the {} km radius from {} coordinate\".format(test_point_tuple, radius, center_point_tuple))"
      ],
      "execution_count": null,
      "outputs": [
        {
          "output_type": "stream",
          "text": [
            "(-7.79457, 110.36563) point is inside the 5 km radius from (-7.7940023, 110.3656535) coordinate\n"
          ],
          "name": "stdout"
        }
      ]
    },
    {
      "cell_type": "code",
      "metadata": {
        "id": "QwpdLRSihglQ"
      },
      "source": [
        "def find_nearest(radius,frame,lat,lon):\r\n",
        "  \"\"\"\r\n",
        "  radius in km\r\n",
        "  data frame containing lat and lon\r\n",
        "  test lat , test lon\r\n",
        "  \"\"\"\r\n",
        "  inside = []\r\n",
        "  for name,la,lo in zip(frame[\"author_name\"],frame[\"latitude\"],frame[\"longitude\"]):\r\n",
        "    if la:\r\n",
        "      \r\n",
        "      center_point_tuple = (la,lo)\r\n",
        "      center_point = (la,lo,name)\r\n",
        "      test_point_tuple = (lat,lon)\r\n",
        "      dis = distance.distance(center_point_tuple, test_point_tuple).km\r\n",
        "      # print(\"Distance: {}\".format(dis)) # Distance: 0.0628380925748918\r\n",
        "\r\n",
        "      radius = radius\r\n",
        "      if dis <= radius:\r\n",
        "          # print(\"{} point is inside the {} km radius from {} coordinate\".format(test_point_tuple, radius, center_point_tuple))\r\n",
        "          inside.append(tuple(center_point))\r\n",
        "  return inside\r\n",
        "      # print(\"{} point is outside the {} km radius from {} coordinate\".format(test_point_tuple, radius, center_point_tuple))"
      ],
      "execution_count": null,
      "outputs": []
    },
    {
      "cell_type": "code",
      "metadata": {
        "id": "8I8K0PQ4mJRX"
      },
      "source": [
        ""
      ],
      "execution_count": null,
      "outputs": []
    },
    {
      "cell_type": "code",
      "metadata": {
        "id": "KODloAjFIDnd"
      },
      "source": [
        "location_name = geolocator.geocode(\"Georgia, US\")"
      ],
      "execution_count": null,
      "outputs": []
    },
    {
      "cell_type": "code",
      "metadata": {
        "colab": {
          "base_uri": "https://localhost:8080/"
        },
        "id": "P2kddWh3GG3q",
        "outputId": "ad8f6ced-15ea-4c98-aaa7-445b91911666"
      },
      "source": [
        "location_name.raw"
      ],
      "execution_count": null,
      "outputs": [
        {
          "output_type": "execute_result",
          "data": {
            "text/plain": [
              "{'boundingbox': ['30.355757', '35.0013614', '-85.6052418', '-80.751429'],\n",
              " 'class': 'boundary',\n",
              " 'display_name': 'Georgia, United States',\n",
              " 'icon': 'https://nominatim.openstreetmap.org/ui/mapicons//poi_boundary_administrative.p.20.png',\n",
              " 'importance': 0.8395778971225453,\n",
              " 'lat': '32.3293809',\n",
              " 'licence': 'Data © OpenStreetMap contributors, ODbL 1.0. https://osm.org/copyright',\n",
              " 'lon': '-83.1137366',\n",
              " 'osm_id': 161957,\n",
              " 'osm_type': 'relation',\n",
              " 'place_id': 258375785,\n",
              " 'type': 'administrative'}"
            ]
          },
          "metadata": {
            "tags": []
          },
          "execution_count": 67
        }
      ]
    },
    {
      "cell_type": "code",
      "metadata": {
        "colab": {
          "base_uri": "https://localhost:8080/"
        },
        "id": "U_SpVSRk7fi5",
        "outputId": "595238b4-1aa5-45b0-e907-493d7258667f"
      },
      "source": [
        "location_name.raw['boundingbox'],location_name.latitude,location_name.longitude"
      ],
      "execution_count": null,
      "outputs": [
        {
          "output_type": "execute_result",
          "data": {
            "text/plain": [
              "(['30.355757', '35.0013614', '-85.6052418', '-80.751429'],\n",
              " 32.3293809,\n",
              " -83.1137366)"
            ]
          },
          "metadata": {
            "tags": []
          },
          "execution_count": 50
        }
      ]
    },
    {
      "cell_type": "code",
      "metadata": {
        "id": "ogy7Mkk2AnHk"
      },
      "source": [
        "bounding_box = [float(x) for x in location_name.raw['boundingbox']]"
      ],
      "execution_count": null,
      "outputs": []
    },
    {
      "cell_type": "code",
      "metadata": {
        "id": "AN1bZMmzYKcS"
      },
      "source": [
        "location_1 = geolocator.geocode(\"Augusta, Georgia\")"
      ],
      "execution_count": null,
      "outputs": []
    },
    {
      "cell_type": "code",
      "metadata": {
        "colab": {
          "base_uri": "https://localhost:8080/"
        },
        "id": "YOctN3f_b5D6",
        "outputId": "8235eab1-b72b-41e1-82a6-5b6da50fb2c5"
      },
      "source": [
        "location_1.raw"
      ],
      "execution_count": null,
      "outputs": [
        {
          "output_type": "execute_result",
          "data": {
            "text/plain": [
              "{'boundingbox': ['33.227165', '33.5450221', '-82.3538702', '-81.8281227'],\n",
              " 'class': 'boundary',\n",
              " 'display_name': 'Augusta, Richmond County, Georgia, United States',\n",
              " 'icon': 'https://nominatim.openstreetmap.org/ui/mapicons//poi_boundary_administrative.p.20.png',\n",
              " 'importance': 0.7742635345437354,\n",
              " 'lat': '33.4709714',\n",
              " 'licence': 'Data © OpenStreetMap contributors, ODbL 1.0. https://osm.org/copyright',\n",
              " 'lon': '-81.9748429',\n",
              " 'osm_id': 11078175,\n",
              " 'osm_type': 'relation',\n",
              " 'place_id': 259475244,\n",
              " 'type': 'administrative'}"
            ]
          },
          "metadata": {
            "tags": []
          },
          "execution_count": 47
        }
      ]
    },
    {
      "cell_type": "code",
      "metadata": {
        "id": "zvKrgKSDcExP"
      },
      "source": [
        "location_2 = geolocator.geocode(\"North Augusta\")"
      ],
      "execution_count": null,
      "outputs": []
    },
    {
      "cell_type": "code",
      "metadata": {
        "colab": {
          "base_uri": "https://localhost:8080/"
        },
        "id": "cxAgC0aw7FSe",
        "outputId": "80decd48-653f-48eb-b973-f012b8e11cd5"
      },
      "source": [
        "location_2"
      ],
      "execution_count": null,
      "outputs": [
        {
          "output_type": "execute_result",
          "data": {
            "text/plain": [
              "Location(North Augusta, Aiken County, South Carolina, 29841, United States, (33.520849999999996, -81.96696923114902, 0.0))"
            ]
          },
          "metadata": {
            "tags": []
          },
          "execution_count": 45
        }
      ]
    },
    {
      "cell_type": "code",
      "metadata": {
        "id": "S9uHGnr6oy9x"
      },
      "source": [
        "location_name.raw"
      ],
      "execution_count": null,
      "outputs": []
    },
    {
      "cell_type": "code",
      "metadata": {
        "id": "Id6ZgEPXjJSz",
        "colab": {
          "base_uri": "https://localhost:8080/"
        },
        "outputId": "3917090e-d1b4-472a-e77d-2a20ffa92d28"
      },
      "source": [
        " %time\r\n",
        " nearest_authors = find_nearest(1000000,new_data,32.3293809,-83.1137366) \r\n",
        " print(nearest_authors)"
      ],
      "execution_count": null,
      "outputs": [
        {
          "output_type": "stream",
          "text": [
            "CPU times: user 3 µs, sys: 0 ns, total: 3 µs\n",
            "Wall time: 6.91 µs\n",
            "[('40.7127281', '-74.0060152', 'Stephanie Aaronson'), ('25.7741728', '-80.19362', 'Deborah Acosta'), ('40.7127281', '-74.0060152', 'Russell Adams'), ('38.8949924', '-77.0365581', 'Janet Adamy'), ('40.7127281', '-74.0060152', 'Aisha Al-Muslim'), ('40.7127281', '-74.0060152', 'Lukas Alpert'), ('19.4326296', '-99.1331785', 'Dudley Althaus'), ('25.0750095', '55.18876088183319', 'Michael Amon'), ('38.8949924', '-77.0365581', 'Natalie Andrews'), ('40.7127281', '-74.0060152', 'AnnaMaria Andriotis'), ('34.0536909', '-118.242766', 'Talal Ansari'), ('40.4416941', '-79.9900861', 'Clare Ansberry'), ('31.2322758', '121.4692071', 'James Areddy'), ('40.7127281', '-74.0060152', 'Maria Armental'), ('38.8949924', '-77.0365581', 'Stephanie Armour'), ('40.7127281', '-74.0060152', 'Janet Babin'), ('48.2640845', '-2.9202408', 'Rachel Bachman'), ('40.7127281', '-74.0060152', 'Aaron Back'), ('40.7127281', '-74.0060152', 'Justin Baer'), ('40.7127281', '-74.0060152', 'Gerard Baker'), ('51.5073219', '-0.1276474', 'Deborah Ball'), ('40.7127281', '-74.0060152', 'Rebecca Ballhaus'), ('40.7127281', '-74.0060152', 'Adam Banicki'), ('40.7127281', '-74.0060152', 'Lisa Bannon'), ('40.7127281', '-74.0060152', 'Kerry Barger'), ('0.3177137', '32.5813539', 'Nicholas Bariyo'), ('51.5073219', '-0.1276474', 'Thorold Barker'), ('40.7127281', '-74.0060152', 'Colin Barr'), ('41.8755616', '-87.6244212', 'Joe Barrett'), ('40.7127281', '-74.0060152', 'Rob Barry'), ('13.7544238', '100.4930399', 'Patrick Barta'), ('35.7803977', '-78.6390989', 'Valerie Bauerlein'), ('40.7127281', '-74.0060152', 'Marie Beaudette'), ('38.8949924', '-77.0365581', 'Paul Beckett'), ('41.8755616', '-87.6244212', 'Douglas Belkin'), ('40.7127281', '-74.0060152', 'Jason Bellini'), ('21.4098097', '39.8884471', 'Eric Bellman'), ('38.8949924', '-77.0365581', 'Michael Bender'), ('52.5170365', '13.3888599', 'Ruth Bender'), ('34.0536909', '-118.242766', 'Alexandra Berzon'), ('48.8566969', '2.3514616', 'Noemie Bisserbe'), ('40.7127281', '-74.0060152', 'Soma Biswas'), ('19.58726775', '-155.42688965312746', 'Aleissa Bleyl'), ('40.7127281', '-74.0060152', 'Emily Bobrow'), ('52.5170365', '13.3888599', 'William Boston'), ('37.7790262', '-122.4199061', 'William Bostwick'), ('38.8949924', '-77.0365581', 'Becky Bowers'), ('38.8949924', '-77.0365581', 'Jess Bravin'), ('40.7127281', '-74.0060152', 'Leslie Brody'), ('37.7790262', '-122.4199061', 'Eliot Brown'), ('40.7127281', '-74.0060152', 'Ken Brown'), ('40.7127281', '-74.0060152', 'Alexandra Bruell'), ('40.7127281', '-74.0060152', 'Michael Bucher'), ('38.8949924', '-77.0365581', 'Thomas Burton'), ('39.2908816', '-76.610759', 'Julie Bykowicz'), ('40.7127281', '-74.0060152', 'Ellen Byron'), ('42.8867166', '-78.8783922', 'Alicia A. Caldwell'), ('41.8755616', '-87.6244212', 'Doug Cameron'), ('25.7741728', '-80.19362', 'Arian Campo-Flores'), ('40.7127281', '-74.0060152', 'Stephanie Capparell'), ('37.7790262', '-122.4199061', 'Jim Carlton'), ('40.7127281', '-74.0060152', 'Julia Carpenter'), ('40.7127281', '-74.0060152', 'Dory Carr-Harris'), ('42.3602534', '-71.0582912', 'Lynne Carty'), ('40.7596198', '-111.8867975', 'Paul Cassell'), ('42.3602534', '-71.0582912', 'Sara Castellanos'), ('40.7127281', '-74.0060152', 'Jim Chairusmi'), ('51.5073219', '-0.1276474', 'Saabira Chaudhuri'), ('39.9065084', '116.3912391', 'Te-Ping Chen'), ('39.9065084', '116.3912391', 'Jonathan Cheng'), ('23.9739374', '120.9820179', 'Josh Chin'), ('38.8949924', '-77.0365581', 'Dante Chinni'), ('40.7127281', '-74.0060152', 'Allison Chopin'), ('51.5073219', '-0.1276474', 'Simon Clark'), ('40.7127281', '-74.0060152', 'Katherine Clarke'), ('51.5073219', '-0.1276474', 'Michael Clerizo'), ('40.7127281', '-74.0060152', 'Ben Cohen'), ('51.5073219', '-0.1276474', 'Max Colchester'), ('40.7127281', '-74.0060152', 'Jarrard Cole'), ('43.8222157', '17.6896937', 'Isabel Coles'), ('38.8949924', '-77.0365581', 'Eliza Collins'), ('40.7127281', '-74.0060152', 'Lynn Cook'), ('38.8949924', '-77.0365581', 'John Corrigan'), ('40.7127281', '-74.0060152', 'Tom Corrigan'), ('40.7127281', '-74.0060152', 'Brian Costa'), ('40.0757384', '-74.4041622', 'Jared Council'), ('40.7127281', '-74.0060152', 'Christopher Covello'), ('40.7127281', '-74.0060152', 'Kelly Crow'), ('38.8949924', '-77.0365581', 'Alan Cullison'), ('51.5073219', '-0.1276474', 'Chip Cummins'), ('40.7127281', '-74.0060152', 'Chip Cutter'), ('48.8566969', '2.3514616', 'Matthew Dalton'), ('19.4326296', '-99.1331785', 'José de Córdoba'), ('40.7127281', '-74.0060152', 'Anthony De Rosa'), ('37.7790262', '-122.4199061', 'Jason Dean'), ('39.7837304', '-100.4458825', 'Anthony DeBarros'), ('40.7127281', '-74.0060152', 'Telis Demos'), ('25.0375198', '121.5636796', 'Chao Deng'), ('40.7127281', '-74.0060152', 'Michael S. Derby'), ('38.8949924', '-77.0365581', 'Sadanand Dhume'), ('40.7127281', '-74.0060152', 'Kelly Dickerson'), ('40.7127281', '-74.0060152', 'Kathryn Dill'), ('38.8949924', '-77.0365581', 'Danny Dougherty'), ('22.2793278', '114.1628131', 'Andrew Dowell'), ('51.5073219', '-0.1276474', 'Ben Dummett'), ('35.6828387', '139.7594549', 'Phred Dvorak'), ('22.2793278', '114.1628131', 'Paul Dyer'), ('40.7127281', '-74.0060152', 'Jean Eaglesham'), ('40.7127281', '-74.0060152', 'Ben Eisen'), ('22.2793278', '114.1628131', 'Jon Emont'), ('40.7127281', '-74.0060152', 'David Ewalt'), ('40.7127281', '-74.0060152', 'Maureen Farrell'), ('37.4443293', '-122.1598465', 'Asa Fitch'), ('40.7127281', '-74.0060152', 'Brian Fitzgerald'), ('38.8949924', '-77.0365581', 'Drew FitzGerald'), ('34.0536909', '-118.242766', 'Joe Flint'), ('40.7127281', '-74.0060152', 'Lane Florsheim'), ('40.7127281', '-74.0060152', 'Francesca Fontana'), ('38.8949924', '-77.0365581', 'Amanda Foreman'), ('40.7127281', '-74.0060152', 'Joe Fornabaio'), ('22.2793278', '114.1628131', 'Alex Frangos'), ('40.7127281', '-74.0060152', 'David Freeman'), ('44.4308975', '-89.6884637', 'Kris Frieswick'), ('34.0536909', '-118.242766', 'Ben Fritz'), ('40.7127281', '-74.0060152', 'Vanessa Fuhrmans'), ('40.7127281', '-74.0060152', 'Andrea Fuller'), ('40.7127281', '-74.0060152', 'Pia Gadkari'), ('35.6828387', '139.7594549', 'Alastair Gale'), ('37.7790262', '-122.4199061', 'Dan Gallagher'), ('40.7127281', '-74.0060152', 'Jacob Gallagher'), ('40.7127281', '-74.0060152', 'Demetria Gallegos'), ('40.7127281', '-74.0060152', 'Ellen Gamerman'), ('37.7790262', '-122.4199061', 'Elizabeth Garone'), ('41.8755616', '-87.6244212', 'Annie Gasparro'), ('40.7127281', '-74.0060152', 'Jason Gay'), ('40.7127281', '-74.0060152', 'Gabriella Gershenson'), ('36.7014631', '-118.755997', 'Emily Glazer'), ('-33.8548157', '151.2164539', 'James Glynn'), ('30.2711286', '-97.7436995', 'Russell Gold'), ('40.7127281', '-74.0060152', 'Diane Goldie'), ('52.5170365', '13.3888599', 'A. J. Goldmann'), ('22.2793278', '114.1628131', 'Miguel Gonzalez'), ('39.7837304', '-100.4458825', 'Alastair Gordon'), ('40.7127281', '-74.0060152', 'Miriam Gottfried'), ('40.7127281', '-74.0060152', 'Peter Grant'), ('38.8949924', '-77.0365581', 'James V. Grimaldi'), ('38.8949924', '-77.0365581', 'Gwynn Guilford'), ('40.7127281', '-74.0060152', 'Joe Haberstroh'), ('40.7127281', '-74.0060152', 'Michelle Hackman'), ('41.8755616', '-87.6244212', 'Heather Haddon'), ('40.4416941', '-79.9900861', 'James Hagerty'), ('40.7127281', '-74.0060152', 'Keach Hagey'), ('40.7127281', '-74.0060152', 'Patience Haggin'), ('40.7127281', '-74.0060152', 'Glenn Hall'), ('38.8949924', '-77.0365581', 'Tim Hanrahan'), ('40.7127281', '-74.0060152', 'Jenny Hartman'), ('40.7127281', '-74.0060152', 'Lee Hawkins'), ('38.8949924', '-77.0365581', 'Yuka Hayashi'), ('40.7127281', '-74.0060152', 'Patrick Hedlund'), ('38.8949924', '-77.0365581', 'Nell Henderson'), ('41.8755616', '-87.6244212', 'Joel Henning'), ('40.7127281', '-74.0060152', 'Jennifer J. Hicks'), ('37.7790262', '-122.4199061', 'Tim Higgins'), ('40.7127281', '-74.0060152', 'Shelby Holliday'), ('40.7127281', '-74.0060152', 'Erik Holm'), ('51.5073219', '-0.1276474', 'Bradley Hope'), ('40.7127281', '-74.0060152', 'Jared S. Hopkins'), ('51.5073219', '-0.1276474', 'Will Horner'), ('37.8044557', '-122.2713563', 'Jeff Horwitz'), ('13.7544238', '100.4930399', 'Alexander Hotz'), ('40.7127281', '-74.0060152', 'Robert Hotz'), ('40.7127281', '-74.0060152', 'Dale Hrabi'), ('41.8755616', '-87.6244212', 'Austen Hufford'), ('38.8949924', '-77.0365581', 'Siobhan Hughes'), ('40.7127281', '-74.0060152', 'Rob Hunter'), ('40.7127281', '-74.0060152', 'Edward Hyatt'), ('36.5748441', '139.2394179', 'Miho Inada'), ('38.8949924', '-77.0365581', 'Greg Ip'), ('40.7127281', '-74.0060152', 'Ellie Ismailidou'), ('40.7127281', '-74.0060152', 'Nat Ives'), ('40.7127281', '-74.0060152', 'Spencer Jakab'), ('42.3315509', '-83.0466403', 'Josh Jamerson'), ('22.2793278', '114.1628131', 'Andrew James'), ('40.7127281', '-74.0060152', 'Alex Janin'), ('41.8755616', '-87.6244212', 'Julie Jargon'), ('40.7127281', '-74.0060152', 'Jim Jaworski'), ('40.7127281', '-74.0060152', 'Martin Johnson'), ('40.7127281', '-74.0060152', 'Ashby Jones'), ('40.7127281', '-74.0060152', 'Coulter Jones'), ('25.0750095', '55.18876088183319', 'Rory Jones'), ('41.9758747', '43.6225677', 'Kwanwoo Jun'), ('41.8755616', '-87.6244212', 'John Jurgensen'), ('40.7127281', '-74.0060152', 'Anne Kadet'), ('24.638916', '46.7160104', 'Stephen Kalin'), ('42.3602534', '-71.0582912', 'Jon Kamp'), ('55.7504461', '37.6174943', 'Georgi Kantchev'), ('51.5073219', '-0.1276474', 'Dipti Kapadia'), ('40.7127281', '-74.0060152', 'Suzanne Kapner'), ('40.7127281', '-74.0060152', 'Craig Karmin'), ('40.7127281', '-74.0060152', 'Dan Keeler'), ('40.7127281', '-74.0060152', 'Brian Kelly'), ('40.7127281', '-74.0060152', 'Mark Kelly'), ('36.7014631', '-118.755997', 'Andy Kessler'), ('40.7127281', '-74.0060152', 'JuJu Kim'), ('40.7127281', '-74.0060152', 'Matthew Kitchen'), ('37.7790262', '-122.4199061', 'Ellen Knickmeyer'), ('40.7127281', '-74.0060152', 'Chris Knutsen'), ('39.7837304', '-100.4458825', 'Ryan Knutson'), ('37.7790262', '-122.4199061', 'Yoree Koh'), ('39.7837304', '-100.4458825', 'Yael Kohen'), ('40.7127281', '-74.0060152', 'Melissa Korn'), ('48.8566969', '2.3514616', 'Nick Kostov'), ('50.1106444', '8.6820917', 'Patricia Kowsmann'), ('40.7127281', '-74.0060152', 'Beth Kracklauer'), ('33.7489924', '-84.3902644', 'Sarah Krouse'), ('40.7127281', '-74.0060152', 'Aaron Kuriloff'), ('40.7127281', '-74.0060152', 'Laura Kusisto'), ('51.5073219', '-0.1276474', 'Robin Kwong'), ('40.7127281', '-74.0060152', 'Justin Lahart'), ('37.7790262', '-122.4199061', 'Alejandro Lazo'), ('40.7127281', '-74.0060152', 'Jinjoo Lee'), ('45.4668', '9.1905', 'Giovanni Legorano'), ('-13.2687204', '33.9301963', 'Emil Lendof'), ('42.3602534', '-71.0582912', 'Jennifer Levitz'), ('40.7127281', '-74.0060152', 'Ang Li'), ('40.7127281', '-74.0060152', 'Robert Libetti'), ('40.7127281', '-74.0060152', 'Cynthia Lin'), ('31.2322758', '121.4692071', 'Liza Lin'), ('40.7127281', '-74.0060152', 'Margaret Lin'), ('40.7127281', '-74.0060152', 'Kate Linebaugh'), ('40.7127281', '-74.0060152', 'Elisa Lipsky-Karasz'), ('40.7127281', '-74.0060152', 'Cara Lombardo'), ('40.7127281', '-74.0060152', 'Angus Loten'), ('39.9527237', '-75.1635262', 'Joann Lublin'), ('38.8949924', '-77.0365581', 'Gordon Lubold'), ('40.7127281', '-74.0060152', 'Aaron Lucchetti'), ('19.4326296', '-99.1331785', 'David Luhnow'), ('22.2793278', '114.1628131', 'Lorraine Luk'), ('51.5073219', '-0.1276474', 'James Mackintosh'), ('40.7127281', '-74.0060152', 'Micah Maidenberg'), ('40.7127281', '-74.0060152', 'Jennifer Maloney'), ('30.0443879', '31.2357257', 'Jared Malsin'), ('1.357107', '103.8194992', 'Niharika Mandhana'), ('38.8949924', '-77.0365581', 'Ted Mann'), ('40.7127281', '-74.0060152', 'David Marcelis'), ('42.3602534', '-71.0582912', 'Amy Dockser Marcus'), ('40.7127281', '-74.0060152', 'David Marino-Nachison'), ('39.7837304', '-100.4458825', 'Alex Martin'), ('37.5666791', '126.9782914', 'Timothy W. Martin'), ('34.0536909', '-118.242766', 'Anna Mathews'), ('40.7127281', '-74.0060152', 'Frank Matt'), ('29.7589382', '-95.3676974', 'Christopher M. Matthews'), ('40.7127281', '-74.0060152', 'Dana Mattioli'), ('40.7127281', '-74.0060152', 'Caitlin McCabe'), ('40.7127281', '-74.0060152', 'Orla McCaffrey'), ('38.8949924', '-77.0365581', 'Troy McCullough'), ('52.5310214', '-1.2649062', 'Sarah McFarlane'), ('38.8949924', '-77.0365581', 'Brian McGill'), ('38.8949924', '-77.0365581', 'John D. McKinnon'), ('35.6828387', '139.7594549', 'Sean McLain'), ('34.0536909', '-118.242766', 'Katy McLaughlin'), ('37.7790262', '-122.4199061', 'Robert McMillan'), ('43.6534817', '-79.3839347', 'Jacquie McNish'), ('33.7489924', '-84.3902644', 'Cameron McWhirter'), ('38.8949924', '-77.0365581', 'Walter Russell Mead'), ('22.2793278', '114.1628131', 'Erin Mendell'), ('38.4192496', '-82.445154', 'Anne Michaud'), ('33.7489924', '-84.3902644', 'Tripp Mickle'), ('39.2908816', '-76.610759', 'Christopher Mims'), ('51.5073219', '-0.1276474', 'Patricia Minczeski'), ('38.8949924', '-77.0365581', 'Josh Mitchell'), ('43.6534817', '-79.3839347', 'Vipal Monga'), ('40.7127281', '-74.0060152', 'Emma Moody'), ('45.939475900000005', '9.149410145408947', 'Heidi Moore'), ('38.8949924', '-77.0365581', 'Eric Morath'), ('34.0536909', '-118.242766', 'Joe Morgenstern'), ('40.7127281', '-74.0060152', 'Sarah Morse'), ('31.2322758', '121.4692071', 'Trefor Moss'), ('40.7896239', '-73.9598939', 'Ben Mullin'), ('40.7127281', '-74.0060152', 'Sara Munoz'), ('35.7803977', '-78.6390989', 'John Murawski'), ('40.7127281', '-74.0060152', 'Matt Murray'), ('40.7127281', '-74.0060152', 'Taylor Nakagawa'), ('38.8949924', '-77.0365581', 'Daniel Nasaw'), ('40.7127281', '-74.0060152', 'Sarah Nassauer'), ('42.3315509', '-83.0466403', 'Nora Naughton'), ('40.0757384', '-74.4041622', 'Sarah E. Needleman'), ('40.7127281', '-74.0060152', 'Emily Nelson'), ('41.8755616', '-87.6244212', 'Jesse Newman'), ('22.2793278', '114.1628131', 'Serena Ng'), ('37.7790262', '-122.4199061', 'Nicole Nguyen'), ('34.0536909', '-118.242766', 'Dennis Nishi'), ('38.8949924', '-77.0365581', 'Dion Nissenbaum'), ('40.7127281', '-74.0060152', 'Peggy Noonan'), ('38.8949924', '-77.0365581', \"Kate O'Keeffe\"), ('51.5073219', '-0.1276474', 'Todd Olmstead'), ('51.5073219', '-0.1276474', 'Parmy Olson'), ('22.2793278', '114.1628131', 'Yumiko Ono'), ('40.7127281', '-74.0060152', 'Amy Or'), ('40.7127281', '-74.0060152', 'Alexander Osipovich'), ('40.7127281', '-74.0060152', 'Akane Otani'), ('-6.1753942', '106.827183', 'Ben Otto'), ('38.8949924', '-77.0365581', 'Paul Overberg'), ('40.7127281', '-74.0060152', 'Paul Page'), ('43.6211955', '-84.6824346', 'George Papadopoulos'), ('-26.205', '28.049722', 'Joe Parkinson'), ('40.7127281', '-74.0060152', 'James Parks'), ('38.8949924', '-77.0365581', 'Tarini Parti'), ('40.7127281', '-74.0060152', 'Charles Passy'), ('40.7127281', '-74.0060152', 'Alexandra Peers'), ('40.7127281', '-74.0060152', 'Karen Miller Pensiero'), ('38.8949924', '-77.0365581', 'Ben Pershing'), ('40.7127281', '-74.0060152', 'Marc Perton'), ('40.7127281', '-74.0060152', 'Andrea Petersen'), ('38.8949924', '-77.0365581', 'Kristina Peterson'), ('41.3828939', '2.1774322', 'Giulia Petroni'), ('42.3602534', '-71.0582912', 'Allison Pohle'), ('40.7127281', '-74.0060152', 'Lauren Pollock'), ('40.7127281', '-74.0060152', 'Sarah Portlock'), ('37.7790262', '-122.4199061', 'Kevin Poulsen'), ('42.3315509', '-83.0466403', 'Chastity Pratt'), ('40.7127281', '-74.0060152', 'Marcelo Prince'), ('38.8949924', '-77.0365581', 'Timothy Puko'), ('13.7544238', '100.4930399', 'Newley Purnell'), ('40.7127281', '-74.0060152', 'Konrad Putzier'), ('40.7127281', '-74.0060152', 'Sarah Rabil'), ('38.8949924', '-77.0365581', 'Louise Radnofsky'), ('41.8755616', '-87.6244212', 'Shayndi Raice'), ('40.7127281', '-74.0060152', 'Shalini Ramachandran'), ('40.7127281', '-74.0060152', 'Corinne Ramey'), ('40.7127281', '-74.0060152', 'Amrith Ramkumar'), ('40.7127281', '-74.0060152', 'Jonathan Randles'), ('34.0536909', '-118.242766', 'Liz Rappaport'), ('37.8044557', '-122.2713563', 'Brad Reagan'), ('40.7127281', '-74.0060152', 'Sumathi Reddy'), ('22.5000485', '-100.0000375', 'Nicky Redl'), ('40.7127281', '-74.0060152', 'David Reilly'), ('38.8949924', '-77.0365581', 'Andrew Restuccia'), ('40.7127281', '-74.0060152', 'Christina Rexrode'), ('40.7127281', '-74.0060152', 'Mark Richardson'), ('40.7127281', '-74.0060152', 'Jonathan Rockoff'), ('42.3816896', '-82.9313655', 'Christina Rogers'), ('39.7837304', '-100.4458825', 'Josée Rose'), ('38.8949924', '-77.0365581', 'Matthew Rose'), ('40.7127281', '-74.0060152', 'Steve Rosenbush'), ('40.0757384', '-74.4041622', 'Wilson Rothman'), ('28.6138954', '77.2090057', 'Rajesh Roy'), ('38.8949924', '-77.0365581', 'Gabe Rubin'), ('52.383705750000004', '4.643559696559635', 'Peter Rudegeair'), ('40.7127281', '-74.0060152', 'Steven Russolillo'), ('26.640628', '-81.8723084', 'Jathon Sapsford'), ('41.3828939', '2.1774322', 'Maitane Sardon'), ('40.7127281', '-74.0060152', 'Rory Satran'), ('40.7127281', '-74.0060152', 'Michael Saul'), ('34.0536909', '-118.242766', 'Katherine Sayre'), ('50.1106444', '8.6820917', 'Marion Schalk'), ('48.8566969', '2.3514616', 'Sam Schechner'), ('40.7127281', '-74.0060152', 'Justin Scheck'), ('51.5073219', '-0.1276474', 'Beth Schepens'), ('38.8949924', '-77.0365581', 'Jacob Schlesinger'), ('34.0536909', '-118.242766', 'Erich Schwartzel'), ('40.7127281', '-74.0060152', 'Leslie Scism'), ('40.7127281', '-74.0060152', 'Andrew Scurria'), ('37.7790262', '-122.4199061', 'Deepa Seetharaman'), ('38.8949924', '-77.0365581', 'Gerald Seib'), ('-2.4833826', '117.8902853', 'Made Sentana'), ('40.7127281', '-74.0060152', 'Jeanette Settembre'), ('40.7127281', '-74.0060152', 'Agam Shah'), ('33.6938118', '73.0651511', 'Saeed Shah'), ('40.7127281', '-74.0060152', 'Amol Sharma'), ('40.7127281', '-74.0060152', 'Jessica Shim'), ('40.7127281', '-74.0060152', 'Michael Siconolfi'), ('40.7127281', '-74.0060152', 'Johnny Simon'), ('51.5073219', '-0.1276474', 'John Simons'), ('34.0536909', '-118.242766', 'Ethan Smith'), ('40.7127281', '-74.0060152', 'Jennifer Smith'), ('1.357107', '103.8194992', 'Feliz Solomon'), ('51.5073219', '-0.1276474', 'Chitra Somayaji'), ('37.7790262', '-122.4199061', 'Heather Somerville'), ('38.8949924', '-77.0365581', 'Katy Stech'), ('34.0536909', '-118.242766', 'Anne Steele'), ('40.7127281', '-74.0060152', 'Joanna Stern'), ('40.7127281', '-74.0060152', 'Christopher Stewart'), ('51.5073219', '-0.1276474', 'Peter Stiff'), ('40.7127281', '-74.0060152', 'Louise Story'), ('22.2793278', '114.1628131', 'Dan Strumpf'), ('40.0757384', '-74.4041622', 'Richard Taliaferro'), ('38.8949924', '-77.0365581', 'Ian Talley'), ('41.8755616', '-87.6244212', 'Andrew Tangel'), ('40.7127281', '-74.0060152', 'Myles Tanzer'), ('40.7127281', '-74.0060152', 'James Taranto'), ('38.8949924', '-77.0365581', 'Byron Tau'), ('40.7127281', '-74.0060152', 'Anne Tergesen'), ('40.7127281', '-74.0060152', 'Sharon Terlep'), ('38.8949924', '-77.0365581', 'Ken Thomas'), ('40.7127281', '-74.0060152', 'Patrick Thomas'), ('37.7790262', '-122.4199061', 'Aaron Tilley'), ('38.8949924', '-77.0365581', 'Nick Timiraos'), ('41.8755616', '-87.6244212', 'Bob Tita'), ('51.5073219', '-0.1276474', 'Rochelle Toplensky'), ('39.7837304', '-100.4458825', 'Harriet Torry'), ('40.7127281', '-74.0060152', 'Jeffrey Trachtenberg'), ('38.8949924', '-77.0365581', 'Ryan Tracy'), ('40.7127281', '-74.0060152', 'Nina Trentmann'), ('40.7127281', '-74.0060152', 'Paulo Trevisani'), ('24.0002488', '53.9994829', 'Yaroslav Trofimov'), ('40.7127281', '-74.0060152', 'Bowdeya Tweh'), ('52.383705750000004', '4.643559696559635', 'David Uberti'), ('44.9533351', '-92.9953373', 'Taylor Umlauf'), ('40.7127281', '-74.0060152', 'Krithika Varagur'), ('37.8044557', '-122.2713563', 'Marc Vartabedian'), ('52.5310214', '-1.2649062', 'Haley Velasco'), ('45.421106', '-75.690308', 'Paul Vieira'), ('42.6511674', '-73.754968', 'Jimmy Vielkind'), ('40.7127281', '-74.0060152', 'Paul Vigna'), ('38.8949924', '-77.0365581', 'Aruna Viswanatha'), ('38.8949924', '-77.0365581', 'Toula Vlahou'), ('38.8949924', '-77.0365581', 'Dustin Volz'), ('40.7127281', '-74.0060152', 'Suzanne Vranica'), ('41.8933203', '12.4829321', 'Marcus Walker'), ('37.7790262', '-122.4199061', 'Robert Wall'), ('41.083064', '-81.518485', 'Nikki Waller'), ('40.7127281', '-74.0060152', 'Robert Walzer'), ('40.7127281', '-74.0060152', 'Kenny Wassus'), ('40.7127281', '-74.0060152', 'Lauren Weber'), ('37.7790262', '-122.4199061', 'Georgia Wells'), ('41.8755616', '-87.6244212', 'Julie Wernau'), ('38.8949924', '-77.0365581', 'David Wessel'), ('40.7127281', '-74.0060152', 'JR Whalen'), ('51.5073219', '-0.1276474', 'James Willhite'), ('37.7790262', '-122.4199061', 'Rolfe Winkler'), ('38.8949924', '-77.0365581', 'Lindsay Wise'), ('40.7127281', '-74.0060152', 'Stephen Wisnefski'), ('35.000074', '104.999927', 'Jacky Wong'), ('51.5073219', '-0.1276474', 'Stu Woo'), ('51.5073219', '-0.1276474', 'Michael Wright'), ('40.7127281', '-74.0060152', 'Michael Wursthorn'), ('39.9065084', '116.3912391', 'Eva Xiao'), ('51.5073219', '-0.1276474', 'Angelina Xu'), ('25.0375198', '121.5636796', 'Stephanie Yang'), ('22.2793278', '114.1628131', 'Chuin-Wei Yap'), ('40.7127281', '-74.0060152', 'Randy Yeip'), ('28.6517178', '77.2219388', 'Becky Yerak'), ('22.2793278', '114.1628131', 'Hannah Yi'), ('40.7127281', '-74.0060152', 'Steve Yoder')]\n"
          ],
          "name": "stdout"
        }
      ]
    },
    {
      "cell_type": "code",
      "metadata": {
        "colab": {
          "base_uri": "https://localhost:8080/"
        },
        "id": "c0T8MFz5lkoF",
        "outputId": "f28f630f-950e-4aaf-9cb4-1e29a9b0608c"
      },
      "source": [
        "%time\r\n"
      ],
      "execution_count": null,
      "outputs": [
        {
          "output_type": "stream",
          "text": [
            "CPU times: user 2 µs, sys: 0 ns, total: 2 µs\n",
            "Wall time: 5.48 µs\n"
          ],
          "name": "stdout"
        },
        {
          "output_type": "execute_result",
          "data": {
            "text/plain": [
              "[('25.7741728', '-80.19362', 'Deborah Acosta'),\n",
              " ('38.8949924', '-77.0365581', 'Janet Adamy'),\n",
              " ('38.8949924', '-77.0365581', 'Natalie Andrews'),\n",
              " ('40.4416941', '-79.9900861', 'Clare Ansberry'),\n",
              " ('38.8949924', '-77.0365581', 'Stephanie Armour'),\n",
              " ('35.7803977', '-78.6390989', 'Valerie Bauerlein'),\n",
              " ('38.8949924', '-77.0365581', 'Paul Beckett'),\n",
              " ('38.8949924', '-77.0365581', 'Michael Bender'),\n",
              " ('38.8949924', '-77.0365581', 'Becky Bowers'),\n",
              " ('38.8949924', '-77.0365581', 'Jess Bravin'),\n",
              " ('38.8949924', '-77.0365581', 'Thomas Burton'),\n",
              " ('39.2908816', '-76.610759', 'Julie Bykowicz'),\n",
              " ('25.7741728', '-80.19362', 'Arian Campo-Flores'),\n",
              " ('38.8949924', '-77.0365581', 'Dante Chinni'),\n",
              " ('38.8949924', '-77.0365581', 'Eliza Collins'),\n",
              " ('38.8949924', '-77.0365581', 'John Corrigan'),\n",
              " ('38.8949924', '-77.0365581', 'Alan Cullison'),\n",
              " ('38.8949924', '-77.0365581', 'Sadanand Dhume'),\n",
              " ('38.8949924', '-77.0365581', 'Danny Dougherty'),\n",
              " ('38.8949924', '-77.0365581', 'Drew FitzGerald'),\n",
              " ('38.8949924', '-77.0365581', 'Amanda Foreman'),\n",
              " ('38.8949924', '-77.0365581', 'James V. Grimaldi'),\n",
              " ('38.8949924', '-77.0365581', 'Gwynn Guilford'),\n",
              " ('40.4416941', '-79.9900861', 'James Hagerty'),\n",
              " ('38.8949924', '-77.0365581', 'Tim Hanrahan'),\n",
              " ('38.8949924', '-77.0365581', 'Yuka Hayashi'),\n",
              " ('38.8949924', '-77.0365581', 'Nell Henderson'),\n",
              " ('38.8949924', '-77.0365581', 'Siobhan Hughes'),\n",
              " ('38.8949924', '-77.0365581', 'Greg Ip'),\n",
              " ('33.7489924', '-84.3902644', 'Sarah Krouse'),\n",
              " ('38.8949924', '-77.0365581', 'Gordon Lubold'),\n",
              " ('38.8949924', '-77.0365581', 'Ted Mann'),\n",
              " ('38.8949924', '-77.0365581', 'Troy McCullough'),\n",
              " ('38.8949924', '-77.0365581', 'Brian McGill'),\n",
              " ('38.8949924', '-77.0365581', 'John D. McKinnon'),\n",
              " ('33.7489924', '-84.3902644', 'Cameron McWhirter'),\n",
              " ('38.8949924', '-77.0365581', 'Walter Russell Mead'),\n",
              " ('38.4192496', '-82.445154', 'Anne Michaud'),\n",
              " ('33.7489924', '-84.3902644', 'Tripp Mickle'),\n",
              " ('39.2908816', '-76.610759', 'Christopher Mims'),\n",
              " ('38.8949924', '-77.0365581', 'Josh Mitchell'),\n",
              " ('38.8949924', '-77.0365581', 'Eric Morath'),\n",
              " ('35.7803977', '-78.6390989', 'John Murawski'),\n",
              " ('38.8949924', '-77.0365581', 'Daniel Nasaw'),\n",
              " ('38.8949924', '-77.0365581', 'Dion Nissenbaum'),\n",
              " ('38.8949924', '-77.0365581', \"Kate O'Keeffe\"),\n",
              " ('38.8949924', '-77.0365581', 'Paul Overberg'),\n",
              " ('38.8949924', '-77.0365581', 'Tarini Parti'),\n",
              " ('38.8949924', '-77.0365581', 'Ben Pershing'),\n",
              " ('38.8949924', '-77.0365581', 'Kristina Peterson'),\n",
              " ('38.8949924', '-77.0365581', 'Timothy Puko'),\n",
              " ('38.8949924', '-77.0365581', 'Louise Radnofsky'),\n",
              " ('38.8949924', '-77.0365581', 'Andrew Restuccia'),\n",
              " ('38.8949924', '-77.0365581', 'Matthew Rose'),\n",
              " ('38.8949924', '-77.0365581', 'Gabe Rubin'),\n",
              " ('26.640628', '-81.8723084', 'Jathon Sapsford'),\n",
              " ('38.8949924', '-77.0365581', 'Jacob Schlesinger'),\n",
              " ('38.8949924', '-77.0365581', 'Gerald Seib'),\n",
              " ('38.8949924', '-77.0365581', 'Katy Stech'),\n",
              " ('38.8949924', '-77.0365581', 'Ian Talley'),\n",
              " ('38.8949924', '-77.0365581', 'Byron Tau'),\n",
              " ('38.8949924', '-77.0365581', 'Ken Thomas'),\n",
              " ('38.8949924', '-77.0365581', 'Nick Timiraos'),\n",
              " ('38.8949924', '-77.0365581', 'Ryan Tracy'),\n",
              " ('38.8949924', '-77.0365581', 'Aruna Viswanatha'),\n",
              " ('38.8949924', '-77.0365581', 'Toula Vlahou'),\n",
              " ('38.8949924', '-77.0365581', 'Dustin Volz'),\n",
              " ('41.083064', '-81.518485', 'Nikki Waller'),\n",
              " ('38.8949924', '-77.0365581', 'David Wessel'),\n",
              " ('38.8949924', '-77.0365581', 'Lindsay Wise')]"
            ]
          },
          "metadata": {
            "tags": []
          },
          "execution_count": 71
        }
      ]
    },
    {
      "cell_type": "code",
      "metadata": {
        "id": "jyO3om_z62Av"
      },
      "source": [
        "def check_bounding_box(bbox,t_lat,t_long):\r\n",
        "  print(bbox,t_lat,t_long)\r\n",
        "  if ((t_lat<=bbox[1] and t_lat>=bbox[0]) and (t_long>=bbox[3] and t_long<=bbox[2])):\r\n",
        "    print(True)\r\n",
        "  else:\r\n",
        "    print(False)\r\n",
        "#   If ( ( Lat <= NW.Lat && Lat >= SE.Lat ) &&\r\n",
        "#      ( Lon >= NW.Lon && Lon <= SE.Lon ) )\r\n",
        "# {\r\n",
        "#     // The point is in the box\r\n",
        "# }"
      ],
      "execution_count": null,
      "outputs": []
    },
    {
      "cell_type": "code",
      "metadata": {
        "id": "QoJQFCmY7WNq",
        "colab": {
          "base_uri": "https://localhost:8080/"
        },
        "outputId": "99235bc7-1beb-45c3-fbb2-265d6c65cb4b"
      },
      "source": [
        "check_bounding_box(bounding_box,location_1.latitude,location_1.longitude)"
      ],
      "execution_count": null,
      "outputs": [
        {
          "output_type": "stream",
          "text": [
            "[30.355757, 35.0013614, -85.6052418, -80.751429] 33.4709714 -81.9748429\n",
            "False\n"
          ],
          "name": "stdout"
        }
      ]
    },
    {
      "cell_type": "code",
      "metadata": {
        "id": "ZFB-7GRnBomZ"
      },
      "source": [
        ""
      ],
      "execution_count": null,
      "outputs": []
    }
  ]
}